{
 "cells": [
  {
   "cell_type": "markdown",
   "metadata": {},
   "source": [
    "# Model category 6: All available data/features\n",
    "The last model category will use all avaialbe features."
   ]
  },
  {
   "cell_type": "markdown",
   "metadata": {},
   "source": [
    "## Model category specific configuration\n",
    "These parameters are model category specific\n"
   ]
  },
  {
   "cell_type": "code",
   "execution_count": 1,
   "metadata": {
    "collapsed": true
   },
   "outputs": [],
   "source": [
    "# Model category name used throughout the subsequent analysis\n",
    "model_cat_id = \"06\"\n",
    "\n",
    "# Which features from the dataset should be loaded:\n",
    "# ['all', 'actual', 'entsoe', 'weather_t', 'weather_i', 'holiday', 'weekday', 'hour', 'month']\n",
    "# features = ['all']\n",
    "# features = ['actual', 'weather','calendar']\n",
    "features = ['actual', 'weather','calendar']\n",
    "# LSTM Layer configuration\n",
    "# ========================\n",
    "\n",
    "# Stateful True or false\n",
    "\n",
    "layer_conf = [ True, True, True ]\n",
    "# Number of neurons per layer\n",
    "\n",
    "\n",
    "# cells = [[ 5, 10, 20, 30, 50, 75, 100, 125, 150 ], [0, 10, 20, 50], [0, 10, 15, 20]]\n",
    "cells = [[ 1, 5, 10, 15 ], [0, 5, 10], [0, 5, 10]]\n",
    "# Regularization per layer\n",
    "dropout = [0, 0.1, 0.2]\n",
    "# Size of how many samples are used for one forward/backward pass\n",
    "batch_size = [8]\n",
    "# In a sense this is the output neuron dimension, or how many timesteps the neuron should output. Currently not implemented, defaults to 1.\n",
    "timesteps = [1]\n"
   ]
  },
  {
   "cell_type": "markdown",
   "metadata": {},
   "source": [
    "### Module imports"
   ]
  },
  {
   "cell_type": "code",
   "execution_count": 2,
   "metadata": {},
   "outputs": [
    {
     "name": "stderr",
     "output_type": "stream",
     "text": [
      "C:\\ProgramData\\Anaconda3\\lib\\site-packages\\statsmodels\\compat\\pandas.py:56: FutureWarning: The pandas.core.datetools module is deprecated and will be removed in a future version. Please use the pandas.tseries module instead.\n  from pandas.core import datetools\n"
     ]
    },
    {
     "name": "stderr",
     "output_type": "stream",
     "text": [
      "C:\\ProgramData\\Anaconda3\\lib\\site-packages\\h5py\\__init__.py:36: FutureWarning: Conversion of the second argument of issubdtype from `float` to `np.floating` is deprecated. In future, it will be treated as `np.float64 == np.dtype(float).type`.\n  from ._conv import register_converters as _register_converters\n"
     ]
    },
    {
     "name": "stderr",
     "output_type": "stream",
     "text": [
      "Using TensorFlow backend.\n"
     ]
    }
   ],
   "source": [
    "import os\n",
    "import sys\n",
    "import math\n",
    "import itertools\n",
    "import datetime as dt\n",
    "import pytz\n",
    "import time as t\n",
    "import numpy as np\n",
    "import pandas as pd\n",
    "from pandas import read_csv\n",
    "from pandas import datetime\n",
    "from numpy import newaxis\n",
    "\n",
    "import matplotlib as mpl\n",
    "\n",
    "import matplotlib.pyplot as plt\n",
    "import scipy.stats as stats\n",
    "from statsmodels.tsa import stattools\n",
    "from tabulate import tabulate\n",
    "\n",
    "import math\n",
    "import keras as keras\n",
    "from keras import backend as K\n",
    "from keras.models import Sequential\n",
    "from keras.layers import Activation, Dense, Dropout, LSTM\n",
    "from keras.callbacks import TensorBoard\n",
    "from keras.utils import np_utils\n",
    "from keras.models import load_model\n",
    "\n",
    "from sklearn.preprocessing import StandardScaler\n",
    "from sklearn.metrics import mean_squared_error, mean_absolute_error\n",
    "\n",
    "from IPython.display import HTML\n",
    "from IPython.display import display\n",
    "%matplotlib notebook\n",
    "mpl.rcParams['figure.figsize'] = (9,5)\n",
    "\n",
    "# Import custom module functions\n",
    "module_path = os.path.abspath(os.path.join('../'))\n",
    "if module_path not in sys.path:\n",
    "    sys.path.append(module_path)\n",
    "\n",
    "from lstm_load_forecasting import data, lstm"
   ]
  },
  {
   "cell_type": "markdown",
   "metadata": {},
   "source": [
    "## Overall configuration\n",
    "These parameters are later used, but shouldn't have to change between different model categories (model 1-5)"
   ]
  },
  {
   "cell_type": "code",
   "execution_count": 4,
   "metadata": {
    "collapsed": true
   },
   "outputs": [],
   "source": [
    "# Directory with dataset\n",
    "path = os.path.join(os.path.abspath(''), 'E:/seminar project/input file for lstm neural netwrok/myData.csv')\n",
    "# path = os.path.join(os.path.abspath(''), 'E:/seminar project/input file for lstm neural netwrok/fulldataset.csv')\n",
    "# Splitdate for train and test data. As the TBATS and ARIMA benchmark needs 2 full cycle of all seasonality, needs to be after jan 01. \n",
    "# loc_tz = pytz.timezone('Europe/Zurich')\n",
    "loc_tz = pytz.timezone('America/New_York')\n",
    "# split_date = loc_tz.localize(dt.datetime(2004,10,1,0,0,0,0))\n",
    "# split_date = loc_tz.localize(dt.datetime(2017,2,1,0,0,0,0))\n",
    "\n",
    "# Validation split percentage\n",
    "validation_split = 0.2\n",
    "# How many epochs in total\n",
    "epochs = 30\n",
    "# Set verbosity level. 0 for only per model, 1 for progress bar...\n",
    "verbose = 0\n",
    "\n",
    "# Dataframe containing the relevant data from training of all models\n",
    "results = pd.DataFrame(columns=['model_name', 'config', 'dropout',\n",
    "                                'train_loss', 'train_rmse', 'train_mae', 'train_mape', \n",
    "                                'valid_loss', 'valid_rmse', 'valid_mae', 'valid_mape', \n",
    "                                'test_rmse', 'test_mae', 'test_mape',\n",
    "                                'epochs', 'batch_train', 'input_shape',\n",
    "                                'total_time', 'time_step', 'splits'\n",
    "                               ])\n",
    "# Early stopping parameters\n",
    "early_stopping = True\n",
    "min_delta = 0.006\n",
    "patience = 2"
   ]
  },
  {
   "cell_type": "markdown",
   "metadata": {},
   "source": [
    "## Preparation and model generation\n",
    "Necessary preliminary steps and then the generation of all possible models based on the settings at the top of this notebook."
   ]
  },
  {
   "cell_type": "code",
   "execution_count": 5,
   "metadata": {},
   "outputs": [
    {
     "name": "stdout",
     "output_type": "stream",
     "text": [
      "==================================\n| Number of model configs generated | 108 |\n"
     ]
    }
   ],
   "source": [
    "# Generate output folders and files\n",
    "res_dir = 'E:/seminar project/lstm-load-forecasting/lstm-load-forecasting-master/results/notebook_' + model_cat_id + '/'\n",
    "plot_dir = 'E:/seminar project/lstm-load-forecasting/lstm-load-forecasting-master/plots/notebook_' + model_cat_id + '/'\n",
    "model_dir = 'E:/seminar project/lstm-load-forecasting/lstm-load-forecasting-master/models/notebook_' + model_cat_id + '/'\n",
    "os.makedirs(res_dir, exist_ok=True)\n",
    "os.makedirs(model_dir, exist_ok=True)\n",
    "output_table = res_dir + model_cat_id + '_results_' + t.strftime(\"%Y%m%d\") + '.csv'\n",
    "test_output_table = res_dir + model_cat_id + '_test_results' + t.strftime(\"%Y%m%d\") + '.csv'\n",
    "\n",
    "# Generate model combinations\n",
    "models = []\n",
    "models = lstm.generate_combinations(\n",
    "    model_name=model_cat_id + '_', layer_conf=layer_conf, cells=cells, dropout=dropout, \n",
    "    batch_size=batch_size, timesteps=[1])"
   ]
  },
  {
   "cell_type": "markdown",
   "metadata": {},
   "source": [
    "## Loading the data:\n"
   ]
  },
  {
   "cell_type": "code",
   "execution_count": 6,
   "metadata": {
    "collapsed": true
   },
   "outputs": [],
   "source": [
    "\n",
    "#methdo 1\n",
    "# df = data.load_dataset(path=path, modules=features)\n",
    "# datatrain=df.loc[(df.index < split_date )].copy()\n",
    "# datatest=df.loc[(df.index >= split_date)].copy()\n",
    "# datatrain=datatrain.copy()\n",
    "# datatrain=datatrain.dropna()\n",
    "# datatest=datatest.copy()\n",
    "# datatest=datatest.dropna()\n",
    "# Xtrain = datatrain.drop('demand_load', 1).copy()\n",
    "# ytrain = datatrain.drop('temperature', 1).copy()\n",
    "# Xtest=datatest.drop('demand_load', 1).copy()\n",
    "# ytest=datatest.drop('temperature', 1).copy()\n",
    "# floatstrainx = [key for key in dict(Xtrain.dtypes) if dict(Xtrain.dtypes)[key] in ['float64']]\n",
    "# floatstrainy = [key for key in dict(ytrain.dtypes) if dict(ytrain.dtypes)[key] in ['float64']]\n",
    "# floatstestx = [key for key in dict(Xtest.dtypes) if dict(Xtest.dtypes)[key] in ['float64']]\n",
    "# floatstesty = [key for key in dict(ytest.dtypes) if dict(ytest.dtypes)[key] in ['float64']]\n",
    "# scalerx=StandardScaler()\n",
    "# X_train=scalerx.fit_transform(Xtrain[floatstrainx])\n",
    "# X_test=scalerx.fit_transform(Xtest[floatstestx])\n",
    "# scalery=StandardScaler()\n",
    "# y_train=scalery.fit_transform(ytrain[floatstrainy])\n",
    "# y_test=scalery.fit_transform(ytest[floatstesty])\n",
    "# print(y_train)\n",
    "\n",
    "\n",
    "#method2\n",
    "from sklearn.model_selection import train_test_split\n",
    "\n",
    "A=['temperature','holiday', 'weekday_0', 'weekday_1', 'weekday_2', 'weekday_3', 'weekday_4', 'weekday_5', 'weekday_6',\n",
    "             'month_1', 'month_2', 'month_3', 'month_4', 'month_5', 'month_6', 'month_7', 'month_8',\n",
    "             'month_9', 'month_10', 'month_11', 'month_12']\n",
    "B=['demand_load', 'month_1', 'month_2', 'month_3', 'month_4', 'month_5', 'month_6', 'month_7', 'month_8',\n",
    "             'month_9', 'month_10', 'month_11', 'month_12']\n",
    "df = data.load_dataset(path=path, modules=features)\n",
    "data_scaled=df.copy()\n",
    "data_scaled=df.dropna()\n",
    "X_data=data_scaled.drop(B,1).copy()\n",
    "y_data=data_scaled.drop(A,1).copy()\n",
    "# y_data=data_scaled.drop('temperature',1).copy()\n",
    "floatsX=[key for key in dict(X_data.dtypes) if dict(X_data.dtypes)[key] in ['float64']]\n",
    "floatsy=[key for key in dict(y_data.dtypes) if dict(y_data.dtypes)[key] in ['float64']]\n",
    "scalerx=StandardScaler()\n",
    "Xscaled=scalerx.fit_transform(X_data[floatsX])\n",
    "X_data[floatsX]=Xscaled\n",
    "scalery=StandardScaler()\n",
    "yscaled=scalery.fit_transform(y_data[floatsy])\n",
    "y_data[floatsy]=yscaled\n",
    "X_train, X_test, y_train, y_test = train_test_split(X_data, y_data, test_size=0.33, random_state=42)\n",
    "# print(X_test)\n",
    "\n"
   ]
  },
  {
   "cell_type": "markdown",
   "metadata": {},
   "source": [
    "## Running through all generated models\n",
    "Note: Depending on the above settings, this can take very long!"
   ]
  },
  {
   "cell_type": "code",
   "execution_count": 8,
   "metadata": {},
   "outputs": [
    {
     "name": "stdout",
     "output_type": "stream",
     "text": [
      "========================= Model 1/108 =========================\n| Starting with model | 06_1_l-1                   |\n| Starting time       | 2018-07-03 10:54:51.786415 |\n"
     ]
    },
    {
     "name": "stderr",
     "output_type": "stream",
     "text": [
      "C:\\ProgramData\\Anaconda3\\lib\\site-packages\\pandas\\core\\frame.py:5186: FutureWarning: \nPassing list-likes to .loc or [] with any missing label will raise\nKeyError in the future, you can use .reindex() as an alternative.\n\nSee the documentation here:\nhttp://pandas.pydata.org/pandas-docs/stable/indexing.html#deprecate-loc-reindex-listlike\n  other = other.loc[:, self.columns]\nC:\\ProgramData\\Anaconda3\\lib\\site-packages\\pandas\\core\\indexing.py:1367: FutureWarning: \nPassing list-likes to .loc or [] with any missing label will raise\nKeyError in the future, you can use .reindex() as an alternative.\n\nSee the documentation here:\nhttp://pandas.pydata.org/pandas-docs/stable/indexing.html#deprecate-loc-reindex-listlike\n  return self._getitem_tuple(key)\n"
     ]
    },
    {
     "name": "stdout",
     "output_type": "stream",
     "text": [
      "========================= Model 2/108 =========================\n| Starting with model | 06_2_l-1_d-0.1             |\n| Starting time       | 2018-07-03 10:54:59.031925 |\n"
     ]
    },
    {
     "name": "stdout",
     "output_type": "stream",
     "text": [
      "========================= Model 3/108 =========================\n| Starting with model | 06_3_l-1_d-0.2             |\n| Starting time       | 2018-07-03 10:55:05.838036 |\n"
     ]
    },
    {
     "name": "stdout",
     "output_type": "stream",
     "text": [
      "========================= Model 4/108 =========================\n| Starting with model | 06_4_l-1_l-5               |\n| Starting time       | 2018-07-03 10:55:18.289268 |\n"
     ]
    },
    {
     "name": "stdout",
     "output_type": "stream",
     "text": [
      "========================= Model 5/108 =========================\n| Starting with model | 06_5_l-1_l-5_d-0.1         |\n| Starting time       | 2018-07-03 10:55:33.033496 |\n"
     ]
    },
    {
     "name": "stdout",
     "output_type": "stream",
     "text": [
      "========================= Model 6/108 =========================\n| Starting with model | 06_6_l-1_l-5_d-0.2         |\n| Starting time       | 2018-07-03 10:55:44.592851 |\n"
     ]
    },
    {
     "name": "stdout",
     "output_type": "stream",
     "text": [
      "========================= Model 7/108 =========================\n| Starting with model | 06_7_l-1_l-10              |\n| Starting time       | 2018-07-03 10:55:57.510453 |\n"
     ]
    },
    {
     "name": "stdout",
     "output_type": "stream",
     "text": [
      "========================= Model 8/108 =========================\n| Starting with model | 06_8_l-1_l-10_d-0.1        |\n| Starting time       | 2018-07-03 10:56:12.613034 |\n"
     ]
    },
    {
     "name": "stdout",
     "output_type": "stream",
     "text": [
      "========================= Model 9/108 =========================\n| Starting with model | 06_9_l-1_l-10_d-0.2        |\n| Starting time       | 2018-07-03 10:56:25.428578 |\n"
     ]
    },
    {
     "name": "stdout",
     "output_type": "stream",
     "text": [
      "========================= Model 10/108 =========================\n| Starting with model | 06_10_l-1_l-5              |\n| Starting time       | 2018-07-03 10:56:42.199599 |\n"
     ]
    },
    {
     "name": "stdout",
     "output_type": "stream",
     "text": [
      "========================= Model 11/108 =========================\n| Starting with model | 06_11_l-1_l-5_d-0.1        |\n| Starting time       | 2018-07-03 10:56:52.654991 |\n"
     ]
    },
    {
     "name": "stdout",
     "output_type": "stream",
     "text": [
      "========================= Model 12/108 =========================\n| Starting with model | 06_12_l-1_l-5_d-0.2        |\n| Starting time       | 2018-07-03 10:57:06.819718 |\n"
     ]
    },
    {
     "name": "stdout",
     "output_type": "stream",
     "text": [
      "========================= Model 13/108 =========================\n| Starting with model | 06_13_l-1_l-5_l-5          |\n| Starting time       | 2018-07-03 10:57:24.024187 |\n"
     ]
    },
    {
     "name": "stdout",
     "output_type": "stream",
     "text": [
      "========================= Model 14/108 =========================\n| Starting with model | 06_14_l-1_l-5_l-5_d-0.1    |\n| Starting time       | 2018-07-03 10:57:41.114520 |\n"
     ]
    },
    {
     "name": "stdout",
     "output_type": "stream",
     "text": [
      "========================= Model 15/108 =========================\n| Starting with model | 06_15_l-1_l-5_l-5_d-0.2    |\n| Starting time       | 2018-07-03 10:58:01.781086 |\n"
     ]
    },
    {
     "name": "stdout",
     "output_type": "stream",
     "text": [
      "========================= Model 16/108 =========================\n| Starting with model | 06_16_l-1_l-5_l-10         |\n| Starting time       | 2018-07-03 10:58:20.755175 |\n"
     ]
    },
    {
     "name": "stdout",
     "output_type": "stream",
     "text": [
      "========================= Model 17/108 =========================\n| Starting with model | 06_17_l-1_l-5_l-10_d-0.1   |\n| Starting time       | 2018-07-03 10:58:41.185514 |\n"
     ]
    },
    {
     "name": "stdout",
     "output_type": "stream",
     "text": [
      "========================= Model 18/108 =========================\n| Starting with model | 06_18_l-1_l-5_l-10_d-0.2   |\n| Starting time       | 2018-07-03 10:59:00.400746 |\n"
     ]
    },
    {
     "name": "stdout",
     "output_type": "stream",
     "text": [
      "========================= Model 19/108 =========================\n| Starting with model | 06_19_l-1_l-10             |\n| Starting time       | 2018-07-03 10:59:20.829107 |\n"
     ]
    },
    {
     "name": "stdout",
     "output_type": "stream",
     "text": [
      "========================= Model 20/108 =========================\n| Starting with model | 06_20_l-1_l-10_d-0.1       |\n| Starting time       | 2018-07-03 10:59:32.881967 |\n"
     ]
    },
    {
     "name": "stdout",
     "output_type": "stream",
     "text": [
      "========================= Model 21/108 =========================\n| Starting with model | 06_21_l-1_l-10_d-0.2       |\n| Starting time       | 2018-07-03 10:59:48.758180 |\n"
     ]
    },
    {
     "name": "stdout",
     "output_type": "stream",
     "text": [
      "========================= Model 22/108 =========================\n| Starting with model | 06_22_l-1_l-10_l-5         |\n| Starting time       | 2018-07-03 11:00:01.518649 |\n"
     ]
    },
    {
     "name": "stdout",
     "output_type": "stream",
     "text": [
      "========================= Model 23/108 =========================\n| Starting with model | 06_23_l-1_l-10_l-5_d-0.1   |\n| Starting time       | 2018-07-03 11:00:23.268183 |\n"
     ]
    },
    {
     "name": "stdout",
     "output_type": "stream",
     "text": [
      "========================= Model 24/108 =========================\n| Starting with model | 06_24_l-1_l-10_l-5_d-0.2   |\n| Starting time       | 2018-07-03 11:00:42.087132 |\n"
     ]
    },
    {
     "name": "stdout",
     "output_type": "stream",
     "text": [
      "========================= Model 25/108 =========================\n| Starting with model | 06_25_l-1_l-10_l-10        |\n| Starting time       | 2018-07-03 11:01:01.907892 |\n"
     ]
    },
    {
     "name": "stdout",
     "output_type": "stream",
     "text": [
      "========================= Model 26/108 =========================\n| Starting with model | 06_26_l-1_l-10_l-10_d-0.1  |\n| Starting time       | 2018-07-03 11:01:19.747921 |\n"
     ]
    },
    {
     "name": "stdout",
     "output_type": "stream",
     "text": [
      "========================= Model 27/108 =========================\n| Starting with model | 06_27_l-1_l-10_l-10_d-0.2  |\n| Starting time       | 2018-07-03 11:01:40.966976 |\n"
     ]
    },
    {
     "name": "stdout",
     "output_type": "stream",
     "text": [
      "========================= Model 28/108 =========================\n| Starting with model | 06_28_l-5                  |\n| Starting time       | 2018-07-03 11:02:00.856890 |\n"
     ]
    },
    {
     "name": "stdout",
     "output_type": "stream",
     "text": [
      "========================= Model 29/108 =========================\n| Starting with model | 06_29_l-5_d-0.1            |\n| Starting time       | 2018-07-03 11:02:13.088834 |\n"
     ]
    },
    {
     "name": "stdout",
     "output_type": "stream",
     "text": [
      "========================= Model 30/108 =========================\n| Starting with model | 06_30_l-5_d-0.2            |\n| Starting time       | 2018-07-03 11:02:19.833893 |\n"
     ]
    },
    {
     "name": "stdout",
     "output_type": "stream",
     "text": [
      "========================= Model 31/108 =========================\n| Starting with model | 06_31_l-5_l-5              |\n| Starting time       | 2018-07-03 11:02:26.992344 |\n"
     ]
    },
    {
     "name": "stdout",
     "output_type": "stream",
     "text": [
      "========================= Model 32/108 =========================\n| Starting with model | 06_32_l-5_l-5_d-0.1        |\n| Starting time       | 2018-07-03 11:02:38.920041 |\n"
     ]
    },
    {
     "name": "stdout",
     "output_type": "stream",
     "text": [
      "========================= Model 33/108 =========================\n| Starting with model | 06_33_l-5_l-5_d-0.2        |\n| Starting time       | 2018-07-03 11:02:55.612044 |\n"
     ]
    },
    {
     "name": "stdout",
     "output_type": "stream",
     "text": [
      "========================= Model 34/108 =========================\n| Starting with model | 06_34_l-5_l-10             |\n| Starting time       | 2018-07-03 11:03:07.132378 |\n"
     ]
    },
    {
     "name": "stdout",
     "output_type": "stream",
     "text": [
      "========================= Model 35/108 =========================\n| Starting with model | 06_35_l-5_l-10_d-0.1       |\n| Starting time       | 2018-07-03 11:03:18.869927 |\n"
     ]
    },
    {
     "name": "stdout",
     "output_type": "stream",
     "text": [
      "========================= Model 36/108 =========================\n| Starting with model | 06_36_l-5_l-10_d-0.2       |\n| Starting time       | 2018-07-03 11:03:40.600442 |\n"
     ]
    },
    {
     "name": "stdout",
     "output_type": "stream",
     "text": [
      "========================= Model 37/108 =========================\n| Starting with model | 06_37_l-5_l-5              |\n| Starting time       | 2018-07-03 11:03:52.416071 |\n"
     ]
    },
    {
     "name": "stdout",
     "output_type": "stream",
     "text": [
      "========================= Model 38/108 =========================\n| Starting with model | 06_38_l-5_l-5_d-0.1        |\n| Starting time       | 2018-07-03 11:04:03.106665 |\n"
     ]
    },
    {
     "name": "stdout",
     "output_type": "stream",
     "text": [
      "========================= Model 39/108 =========================\n| Starting with model | 06_39_l-5_l-5_d-0.2        |\n| Starting time       | 2018-07-03 11:04:27.185321 |\n"
     ]
    },
    {
     "name": "stdout",
     "output_type": "stream",
     "text": [
      "========================= Model 40/108 =========================\n| Starting with model | 06_40_l-5_l-5_l-5          |\n| Starting time       | 2018-07-03 11:04:39.426328 |\n"
     ]
    },
    {
     "name": "stdout",
     "output_type": "stream",
     "text": [
      "========================= Model 41/108 =========================\n| Starting with model | 06_41_l-5_l-5_l-5_d-0.1    |\n| Starting time       | 2018-07-03 11:04:58.911790 |\n"
     ]
    },
    {
     "name": "stdout",
     "output_type": "stream",
     "text": [
      "========================= Model 42/108 =========================\n| Starting with model | 06_42_l-5_l-5_l-5_d-0.2    |\n| Starting time       | 2018-07-03 11:05:23.180589 |\n"
     ]
    },
    {
     "name": "stdout",
     "output_type": "stream",
     "text": [
      "========================= Model 43/108 =========================\n| Starting with model | 06_43_l-5_l-5_l-10         |\n| Starting time       | 2018-07-03 11:05:47.801712 |\n"
     ]
    },
    {
     "name": "stdout",
     "output_type": "stream",
     "text": [
      "========================= Model 44/108 =========================\n| Starting with model | 06_44_l-5_l-5_l-10_d-0.1   |\n| Starting time       | 2018-07-03 11:06:05.958016 |\n"
     ]
    },
    {
     "name": "stdout",
     "output_type": "stream",
     "text": [
      "========================= Model 45/108 =========================\n| Starting with model | 06_45_l-5_l-5_l-10_d-0.2   |\n| Starting time       | 2018-07-03 11:06:33.991197 |\n"
     ]
    },
    {
     "name": "stdout",
     "output_type": "stream",
     "text": [
      "========================= Model 46/108 =========================\n| Starting with model | 06_46_l-5_l-10             |\n| Starting time       | 2018-07-03 11:07:00.526050 |\n"
     ]
    },
    {
     "name": "stdout",
     "output_type": "stream",
     "text": [
      "========================= Model 47/108 =========================\n| Starting with model | 06_47_l-5_l-10_d-0.1       |\n| Starting time       | 2018-07-03 11:07:24.424501 |\n"
     ]
    },
    {
     "name": "stdout",
     "output_type": "stream",
     "text": [
      "========================= Model 48/108 =========================\n| Starting with model | 06_48_l-5_l-10_d-0.2       |\n| Starting time       | 2018-07-03 11:07:37.483232 |\n"
     ]
    },
    {
     "name": "stdout",
     "output_type": "stream",
     "text": [
      "========================= Model 49/108 =========================\n| Starting with model | 06_49_l-5_l-10_l-5         |\n| Starting time       | 2018-07-03 11:07:50.033508 |\n"
     ]
    },
    {
     "name": "stdout",
     "output_type": "stream",
     "text": [
      "========================= Model 50/108 =========================\n| Starting with model | 06_50_l-5_l-10_l-5_d-0.1   |\n| Starting time       | 2018-07-03 11:08:08.605194 |\n"
     ]
    },
    {
     "name": "stdout",
     "output_type": "stream",
     "text": [
      "========================= Model 51/108 =========================\n| Starting with model | 06_51_l-5_l-10_l-5_d-0.2   |\n| Starting time       | 2018-07-03 11:08:44.238198 |\n"
     ]
    },
    {
     "name": "stdout",
     "output_type": "stream",
     "text": [
      "========================= Model 52/108 =========================\n| Starting with model | 06_52_l-5_l-10_l-10        |\n| Starting time       | 2018-07-03 11:09:17.019650 |\n"
     ]
    },
    {
     "name": "stdout",
     "output_type": "stream",
     "text": [
      "========================= Model 53/108 =========================\n| Starting with model | 06_53_l-5_l-10_l-10_d-0.1  |\n| Starting time       | 2018-07-03 11:09:48.058532 |\n"
     ]
    },
    {
     "name": "stdout",
     "output_type": "stream",
     "text": [
      "========================= Model 54/108 =========================\n| Starting with model | 06_54_l-5_l-10_l-10_d-0.2  |\n| Starting time       | 2018-07-03 11:10:21.128291 |\n"
     ]
    },
    {
     "name": "stdout",
     "output_type": "stream",
     "text": [
      "========================= Model 55/108 =========================\n| Starting with model | 06_55_l-10                 |\n| Starting time       | 2018-07-03 11:10:54.579287 |\n"
     ]
    },
    {
     "name": "stdout",
     "output_type": "stream",
     "text": [
      "========================= Model 56/108 =========================\n| Starting with model | 06_56_l-10_d-0.1           |\n| Starting time       | 2018-07-03 11:11:08.648921 |\n"
     ]
    },
    {
     "name": "stdout",
     "output_type": "stream",
     "text": [
      "========================= Model 57/108 =========================\n| Starting with model | 06_57_l-10_d-0.2           |\n| Starting time       | 2018-07-03 11:11:24.422150 |\n"
     ]
    },
    {
     "name": "stdout",
     "output_type": "stream",
     "text": [
      "========================= Model 58/108 =========================\n| Starting with model | 06_58_l-10_l-5             |\n| Starting time       | 2018-07-03 11:11:38.988232 |\n"
     ]
    },
    {
     "name": "stdout",
     "output_type": "stream",
     "text": [
      "========================= Model 59/108 =========================\n| Starting with model | 06_59_l-10_l-5_d-0.1       |\n| Starting time       | 2018-07-03 11:12:00.884844 |\n"
     ]
    },
    {
     "name": "stdout",
     "output_type": "stream",
     "text": [
      "========================= Model 60/108 =========================\n| Starting with model | 06_60_l-10_l-5_d-0.2       |\n| Starting time       | 2018-07-03 11:12:27.392660 |\n"
     ]
    },
    {
     "name": "stdout",
     "output_type": "stream",
     "text": [
      "========================= Model 61/108 =========================\n| Starting with model | 06_61_l-10_l-10            |\n| Starting time       | 2018-07-03 11:12:51.466280 |\n"
     ]
    },
    {
     "name": "stdout",
     "output_type": "stream",
     "text": [
      "========================= Model 62/108 =========================\n| Starting with model | 06_62_l-10_l-10_d-0.1      |\n| Starting time       | 2018-07-03 11:13:13.897435 |\n"
     ]
    },
    {
     "name": "stdout",
     "output_type": "stream",
     "text": [
      "========================= Model 63/108 =========================\n| Starting with model | 06_63_l-10_l-10_d-0.2      |\n| Starting time       | 2018-07-03 11:13:38.092222 |\n"
     ]
    },
    {
     "name": "stdout",
     "output_type": "stream",
     "text": [
      "========================= Model 64/108 =========================\n| Starting with model | 06_64_l-10_l-5             |\n| Starting time       | 2018-07-03 11:14:01.846559 |\n"
     ]
    },
    {
     "name": "stdout",
     "output_type": "stream",
     "text": [
      "========================= Model 65/108 =========================\n| Starting with model | 06_65_l-10_l-5_d-0.1       |\n| Starting time       | 2018-07-03 11:14:24.324699 |\n"
     ]
    },
    {
     "name": "stdout",
     "output_type": "stream",
     "text": [
      "========================= Model 66/108 =========================\n| Starting with model | 06_66_l-10_l-5_d-0.2       |\n| Starting time       | 2018-07-03 11:14:49.553417 |\n"
     ]
    },
    {
     "name": "stdout",
     "output_type": "stream",
     "text": [
      "========================= Model 67/108 =========================\n| Starting with model | 06_67_l-10_l-5_l-5         |\n| Starting time       | 2018-07-03 11:15:14.403684 |\n"
     ]
    },
    {
     "name": "stdout",
     "output_type": "stream",
     "text": [
      "========================= Model 68/108 =========================\n| Starting with model | 06_68_l-10_l-5_l-5_d-0.1   |\n| Starting time       | 2018-07-03 11:15:53.307652 |\n"
     ]
    },
    {
     "name": "stdout",
     "output_type": "stream",
     "text": [
      "========================= Model 69/108 =========================\n| Starting with model | 06_69_l-10_l-5_l-5_d-0.2   |\n| Starting time       | 2018-07-03 11:16:33.479771 |\n"
     ]
    },
    {
     "name": "stdout",
     "output_type": "stream",
     "text": [
      "========================= Model 70/108 =========================\n| Starting with model | 06_70_l-10_l-5_l-10        |\n| Starting time       | 2018-07-03 11:17:09.426003 |\n"
     ]
    },
    {
     "name": "stdout",
     "output_type": "stream",
     "text": [
      "========================= Model 71/108 =========================\n| Starting with model | 06_71_l-10_l-5_l-10_d-0.1  |\n| Starting time       | 2018-07-03 11:17:41.509823 |\n"
     ]
    },
    {
     "name": "stdout",
     "output_type": "stream",
     "text": [
      "========================= Model 72/108 =========================\n| Starting with model | 06_72_l-10_l-5_l-10_d-0.2  |\n| Starting time       | 2018-07-03 11:18:16.888609 |\n"
     ]
    },
    {
     "name": "stdout",
     "output_type": "stream",
     "text": [
      "========================= Model 73/108 =========================\n| Starting with model | 06_73_l-10_l-10            |\n| Starting time       | 2018-07-03 11:18:50.172508 |\n"
     ]
    },
    {
     "name": "stdout",
     "output_type": "stream",
     "text": [
      "========================= Model 74/108 =========================\n| Starting with model | 06_74_l-10_l-10_d-0.1      |\n| Starting time       | 2018-07-03 11:19:12.671770 |\n"
     ]
    },
    {
     "name": "stdout",
     "output_type": "stream",
     "text": [
      "========================= Model 75/108 =========================\n| Starting with model | 06_75_l-10_l-10_d-0.2      |\n| Starting time       | 2018-07-03 11:19:36.540214 |\n"
     ]
    },
    {
     "name": "stdout",
     "output_type": "stream",
     "text": [
      "========================= Model 76/108 =========================\n| Starting with model | 06_76_l-10_l-10_l-5        |\n| Starting time       | 2018-07-03 11:20:00.399588 |\n"
     ]
    },
    {
     "name": "stdout",
     "output_type": "stream",
     "text": [
      "========================= Model 77/108 =========================\n| Starting with model | 06_77_l-10_l-10_l-5_d-0.1  |\n| Starting time       | 2018-07-03 11:20:31.668676 |\n"
     ]
    },
    {
     "name": "stdout",
     "output_type": "stream",
     "text": [
      "========================= Model 78/108 =========================\n| Starting with model | 06_78_l-10_l-10_l-5_d-0.2  |\n| Starting time       | 2018-07-03 11:21:04.992615 |\n"
     ]
    },
    {
     "name": "stdout",
     "output_type": "stream",
     "text": [
      "========================= Model 79/108 =========================\n| Starting with model | 06_79_l-10_l-10_l-10       |\n| Starting time       | 2018-07-03 11:21:38.304539 |\n"
     ]
    },
    {
     "name": "stdout",
     "output_type": "stream",
     "text": [
      "========================= Model 80/108 =========================\n| Starting with model | 06_80_l-10_l-10_l-10_d-0.1 |\n| Starting time       | 2018-07-03 11:22:09.248390 |\n"
     ]
    },
    {
     "name": "stdout",
     "output_type": "stream",
     "text": [
      "========================= Model 81/108 =========================\n| Starting with model | 06_81_l-10_l-10_l-10_d-0.2 |\n| Starting time       | 2018-07-03 11:22:43.218851 |\n"
     ]
    },
    {
     "name": "stdout",
     "output_type": "stream",
     "text": [
      "========================= Model 82/108 =========================\n| Starting with model | 06_82_l-15                 |\n| Starting time       | 2018-07-03 11:23:18.314431 |\n"
     ]
    },
    {
     "name": "stdout",
     "output_type": "stream",
     "text": [
      "========================= Model 83/108 =========================\n| Starting with model | 06_83_l-15_d-0.1           |\n| Starting time       | 2018-07-03 11:23:32.823464 |\n"
     ]
    },
    {
     "name": "stdout",
     "output_type": "stream",
     "text": [
      "========================= Model 84/108 =========================\n| Starting with model | 06_84_l-15_d-0.2           |\n| Starting time       | 2018-07-03 11:23:47.941046 |\n"
     ]
    },
    {
     "name": "stdout",
     "output_type": "stream",
     "text": [
      "========================= Model 85/108 =========================\n| Starting with model | 06_85_l-15_l-5             |\n| Starting time       | 2018-07-03 11:24:03.408885 |\n"
     ]
    },
    {
     "name": "stdout",
     "output_type": "stream",
     "text": [
      "========================= Model 86/108 =========================\n| Starting with model | 06_86_l-15_l-5_d-0.1       |\n| Starting time       | 2018-07-03 11:24:26.196350 |\n"
     ]
    },
    {
     "name": "stdout",
     "output_type": "stream",
     "text": [
      "========================= Model 87/108 =========================\n| Starting with model | 06_87_l-15_l-5_d-0.2       |\n| Starting time       | 2018-07-03 11:24:51.149770 |\n"
     ]
    },
    {
     "name": "stdout",
     "output_type": "stream",
     "text": [
      "========================= Model 88/108 =========================\n| Starting with model | 06_88_l-15_l-10            |\n| Starting time       | 2018-07-03 11:25:16.056140 |\n"
     ]
    },
    {
     "name": "stdout",
     "output_type": "stream",
     "text": [
      "========================= Model 89/108 =========================\n| Starting with model | 06_89_l-15_l-10_d-0.1      |\n| Starting time       | 2018-07-03 11:25:40.107803 |\n"
     ]
    },
    {
     "name": "stdout",
     "output_type": "stream",
     "text": [
      "========================= Model 90/108 =========================\n| Starting with model | 06_90_l-15_l-10_d-0.2      |\n| Starting time       | 2018-07-03 11:26:07.369237 |\n"
     ]
    },
    {
     "name": "stdout",
     "output_type": "stream",
     "text": [
      "========================= Model 91/108 =========================\n| Starting with model | 06_91_l-15_l-5             |\n| Starting time       | 2018-07-03 11:26:34.109255 |\n"
     ]
    },
    {
     "name": "stdout",
     "output_type": "stream",
     "text": [
      "========================= Model 92/108 =========================\n| Starting with model | 06_92_l-15_l-5_d-0.1       |\n| Starting time       | 2018-07-03 11:26:57.751549 |\n"
     ]
    },
    {
     "name": "stdout",
     "output_type": "stream",
     "text": [
      "========================= Model 93/108 =========================\n| Starting with model | 06_93_l-15_l-5_d-0.2       |\n| Starting time       | 2018-07-03 11:27:22.760956 |\n"
     ]
    },
    {
     "name": "stdout",
     "output_type": "stream",
     "text": [
      "========================= Model 94/108 =========================\n| Starting with model | 06_94_l-15_l-5_l-5         |\n| Starting time       | 2018-07-03 11:27:49.637099 |\n"
     ]
    },
    {
     "name": "stdout",
     "output_type": "stream",
     "text": [
      "========================= Model 95/108 =========================\n| Starting with model | 06_95_l-15_l-5_l-5_d-0.1   |\n| Starting time       | 2018-07-03 11:28:23.297336 |\n"
     ]
    },
    {
     "name": "stdout",
     "output_type": "stream",
     "text": [
      "========================= Model 96/108 =========================\n| Starting with model | 06_96_l-15_l-5_l-5_d-0.2   |\n| Starting time       | 2018-07-03 11:28:59.312693 |\n"
     ]
    },
    {
     "name": "stdout",
     "output_type": "stream",
     "text": [
      "========================= Model 97/108 =========================\n| Starting with model | 06_97_l-15_l-5_l-10        |\n| Starting time       | 2018-07-03 11:29:35.183916 |\n"
     ]
    },
    {
     "name": "stdout",
     "output_type": "stream",
     "text": [
      "========================= Model 98/108 =========================\n| Starting with model | 06_98_l-15_l-5_l-10_d-0.1  |\n| Starting time       | 2018-07-03 11:30:06.878381 |\n"
     ]
    },
    {
     "name": "stdout",
     "output_type": "stream",
     "text": [
      "========================= Model 99/108 =========================\n| Starting with model | 06_99_l-15_l-5_l-10_d-0.2  |\n| Starting time       | 2018-07-03 11:30:41.430424 |\n"
     ]
    },
    {
     "name": "stdout",
     "output_type": "stream",
     "text": [
      "========================= Model 100/108 =========================\n| Starting with model | 06_100_l-15_l-10           |\n| Starting time       | 2018-07-03 11:31:15.972453 |\n"
     ]
    },
    {
     "name": "stdout",
     "output_type": "stream",
     "text": [
      "========================= Model 101/108 =========================\n| Starting with model | 06_101_l-15_l-10_d-0.1     |\n| Starting time       | 2018-07-03 11:31:38.884029 |\n"
     ]
    },
    {
     "name": "stdout",
     "output_type": "stream",
     "text": [
      "========================= Model 102/108 =========================\n| Starting with model | 06_102_l-15_l-10_d-0.2     |\n| Starting time       | 2018-07-03 11:32:02.921622 |\n"
     ]
    },
    {
     "name": "stdout",
     "output_type": "stream",
     "text": [
      "========================= Model 103/108 =========================\n| Starting with model | 06_103_l-15_l-10_l-5       |\n| Starting time       | 2018-07-03 11:32:27.556808 |\n"
     ]
    },
    {
     "name": "stdout",
     "output_type": "stream",
     "text": [
      "========================= Model 104/108 =========================\n| Starting with model | 06_104_l-15_l-10_l-5_d-0.1 |\n| Starting time       | 2018-07-03 11:32:58.754781 |\n"
     ]
    },
    {
     "name": "stdout",
     "output_type": "stream",
     "text": [
      "========================= Model 105/108 =========================\n| Starting with model | 06_105_l-15_l-10_l-5_d-0.2 |\n| Starting time       | 2018-07-03 11:33:32.431086 |\n"
     ]
    },
    {
     "name": "stdout",
     "output_type": "stream",
     "text": [
      "========================= Model 106/108 =========================\n| Starting with model | 06_106_l-15_l-10_l-10      |\n| Starting time       | 2018-07-03 11:34:07.942927 |\n"
     ]
    },
    {
     "name": "stdout",
     "output_type": "stream",
     "text": [
      "========================= Model 107/108 =========================\n| Starting with model | 06_107_l-15_l-10_l-10_d-0.1 |\n| Starting time       | 2018-07-03 11:34:39.980712  |\n"
     ]
    },
    {
     "name": "stdout",
     "output_type": "stream",
     "text": [
      "========================= Model 108/108 =========================\n| Starting with model | 06_108_l-15_l-10_l-10_d-0.2 |\n| Starting time       | 2018-07-03 11:35:14.063327  |\n"
     ]
    }
   ],
   "source": [
    "start_time = t.time()\n",
    "for idx, m in enumerate(models):\n",
    "    stopper = t.time()\n",
    "    print('========================= Model {}/{} ========================='.format(idx+1, len(models)))\n",
    "    print(tabulate([['Starting with model', m['name']], ['Starting time', datetime.fromtimestamp(stopper)]],\n",
    "                   tablefmt=\"jira\", numalign=\"right\", floatfmt=\".3f\"))\n",
    "    try:\n",
    "        # Creating the Keras Model\n",
    "        model = lstm.create_model(layers=m['layers'], sample_size=X_train.shape[0], batch_size=m['batch_size'], \n",
    "                          timesteps=m['timesteps'], features=X_train.shape[1])\n",
    "        # Training...\n",
    "        history = lstm.train_model(model=model, mode='fit', y=y_train, X=X_train, \n",
    "                                   batch_size=m['batch_size'], timesteps=m['timesteps'], epochs=epochs, \n",
    "                                   rearrange=False, validation_split=validation_split, verbose=verbose, \n",
    "                                   early_stopping=early_stopping, min_delta=min_delta, patience=patience)\n",
    "\n",
    "        # Write results\n",
    "        min_loss = np.min(history.history['val_loss'])\n",
    "        min_idx = np.argmin(history.history['val_loss'])\n",
    "        min_epoch = min_idx + 1\n",
    "\n",
    "        if verbose > 0:\n",
    "            print('______________________________________________________________________')\n",
    "            print(tabulate([['Minimum validation loss at epoch', min_epoch, 'Time: {}'.format(t.time()-stopper)],\n",
    "                        ['Training loss & MAE', history.history['loss'][min_idx], history.history['mean_absolute_error'][min_idx]  ], \n",
    "                        ['Validation loss & mae', history.history['val_loss'][min_idx], history.history['val_mean_absolute_error'][min_idx] ],\n",
    "                       ], tablefmt=\"jira\", numalign=\"right\", floatfmt=\".3f\"))\n",
    "            print('______________________________________________________________________')\n",
    "        \n",
    "        \n",
    "        result = [{'model_name': m['name'], 'config': m, 'train_loss': history.history['loss'][min_idx], 'train_rmse': 0,\n",
    "                   'train_mae': history.history['mean_absolute_error'][min_idx], 'train_mape': 0,\n",
    "                   'valid_loss': history.history['val_loss'][min_idx], 'valid_rmse': 0, \n",
    "                   'valid_mae': history.history['val_mean_absolute_error'][min_idx],'valid_mape': 0, \n",
    "                   'test_rmse': 0, 'test_mae': 0, 'test_mape': 0, 'epochs': '{}/{}'.format(min_epoch, epochs), 'batch_train':m['batch_size'],\n",
    "                   'input_shape':(X_train.shape[0], timesteps, X_train.shape[1]), 'total_time':t.time()-stopper, \n",
    "                   'time_step':0, 'dropout': m['layers'][0]['dropout']\n",
    "                  }]\n",
    "        # , 'splits':str(split_date)\n",
    "        results = results.append(result, ignore_index=True)\n",
    "        \n",
    "        # Saving the model and weights\n",
    "        model.save(model_dir + m['name'] + '.h5')\n",
    "        \n",
    "        # Write results to csv\n",
    "        results.to_csv(output_table, sep=';')\n",
    "        \n",
    "        K.clear_session()\n",
    "        import tensorflow as tf\n",
    "        tf.reset_default_graph()\n",
    "        \n",
    "    # Shouldn't catch all errors, but for now...\n",
    "    except BaseException as e:\n",
    "        print('=============== ERROR {}/{} ============='.format(idx+1, len(models)))\n",
    "        print(tabulate([['Model:', m['name']], ['Config:', m]], tablefmt=\"jira\", numalign=\"right\", floatfmt=\".3f\"))\n",
    "        print('Error: {}'.format(e))\n",
    "        result = [{'model_name': m['name'], 'config': m, 'train_loss': str(e)}]\n",
    "        results = results.append(result, ignore_index=True)\n",
    "        results.to_csv(output_table,sep=';')\n",
    "        continue\n",
    "        "
   ]
  },
  {
   "cell_type": "markdown",
   "metadata": {},
   "source": [
    "## Model selection based on the validation MAE"
   ]
  },
  {
   "cell_type": "markdown",
   "metadata": {
    "collapsed": true
   },
   "source": [
    "Select the top 5 models based on the Mean Absolute Error in the validation data:\n",
    "http://scikit-learn.org/stable/modules/model_evaluation.html#mean-absolute-error"
   ]
  },
  {
   "cell_type": "code",
   "execution_count": 9,
   "metadata": {
    "collapsed": true
   },
   "outputs": [
    {
     "name": "stdout",
     "output_type": "stream",
     "text": [
      "     Unnamed: 0                  model_name  \\\n67           67    06_68_l-10_l-5_l-5_d-0.1   \n130         130    06_23_l-1_l-10_l-5_d-0.1   \n104         104  06_105_l-15_l-10_l-5_d-0.2   \n14           14     06_15_l-1_l-5_l-5_d-0.2   \n159         159         06_52_l-5_l-10_l-10   \n\n                                                config  dropout  train_loss  \\\n67   {'name': '06_68_l-10_l-5_l-5_d-0.1', 'layers':...      0.1    1.002538   \n130  {'name': '06_23_l-1_l-10_l-5_d-0.1', 'layers':...      0.1    1.003049   \n104  {'name': '06_105_l-15_l-10_l-5_d-0.2', 'layers...      0.2    1.003666   \n14   {'name': '06_15_l-1_l-5_l-5_d-0.2', 'layers': ...      0.2    1.003120   \n159  {'name': '06_52_l-5_l-10_l-10', 'layers': [{'t...      0.0    1.002655   \n\n     train_rmse  train_mae  train_mape  valid_loss  valid_rmse   ...    \\\n67            0   0.905184           0    0.975022           0   ...     \n130           0   0.905259           0    0.973894           0   ...     \n104           0   0.905535           0    0.974801           0   ...     \n14            0   0.905477           0    0.974981           0   ...     \n159           0   0.905261           0    0.974402           0   ...     \n\n     valid_mape  test_rmse  test_mae  test_mape  epochs batch_train  \\\n67            0          0         0          0    2/30           8   \n130           0          0         0          0    3/30           8   \n104           0          0         0          0    2/30           8   \n14            0          0         0          0    3/30           8   \n159           0          0         0          0    3/30           8   \n\n        input_shape total_time  time_step  splits  \n67   (5869, [1], 9)  21.025846          0     NaN  \n130  (5869, [1], 9)  18.105310          0     NaN  \n104  (5869, [1], 9)  26.549849          0     NaN  \n14   (5869, [1], 9)  15.483878          0     NaN  \n159  (5869, [1], 9)  30.292207          0     NaN  \n\n[5 rows x 21 columns]\n"
     ]
    }
   ],
   "source": [
    "# Number of the selected top models \n",
    "selection = 5\n",
    "# If run in the same instance not necessary. If run on the same day, then just use output_table\n",
    "results_fn = res_dir + model_cat_id + '_results_' + '20180703' + '.csv'\n",
    "\n",
    "results_csv = pd.read_csv(results_fn, delimiter=';')\n",
    "top_models = results_csv.nsmallest(selection, 'valid_mae')\n",
    "print(top_models)"
   ]
  },
  {
   "cell_type": "markdown",
   "metadata": {},
   "source": [
    "## Evaluate top 5 models"
   ]
  },
  {
   "cell_type": "code",
   "execution_count": 12,
   "metadata": {
    "collapsed": true
   },
   "outputs": [],
   "source": [
    "# Init test results table\n",
    "test_results = pd.DataFrame(columns=['Model name', 'Mean absolute error', 'Mean squared error'])\n",
    "\n",
    "# Init empty predictions\n",
    "predictions = {}\n",
    "\n",
    "# Loop through models\n",
    "for index, row in top_models.iterrows():\n",
    "    filename = model_dir + row['model_name'] + '.h5'\n",
    "    model = load_model(filename)\n",
    "    batch_size = int(row['batch_train'])\n",
    "    \n",
    "    \n",
    "    # Calculate scores\n",
    "    loss, mae = lstm.evaluate_model(model=model, X=X_test, y=y_test, batch_size=batch_size, timesteps=1, verbose=verbose)\n",
    "\n",
    "    # Store results\n",
    "    result = [{'Model name': row['model_name'], \n",
    "               'Mean squared error': loss, 'Mean absolute error': mae\n",
    "              }]\n",
    "    test_results = test_results.append(result, ignore_index=True)\n",
    "\n",
    "    # Generate predictions\n",
    "    model.reset_states()\n",
    "    model_predictions = lstm.get_predictions(model=model, X=X_test, batch_size=batch_size, timesteps=timesteps[0], verbose=verbose)\n",
    "\n",
    "    # Save predictions\n",
    "    predictions[row['model_name']] = model_predictions\n",
    "\n",
    "    K.clear_session()\n",
    "    import tensorflow as tf\n",
    "    tf.reset_default_graph()\n",
    "\n",
    "\n",
    "test_results = test_results.sort_values('Mean absolute error', ascending=True)\n",
    "test_results = test_results.set_index(['Model name'])\n",
    "\n",
    "if not os.path.isfile(test_output_table):\n",
    "    test_results.to_csv(test_output_table, sep=';')\n",
    "else: # else it exists so append without writing the header\n",
    "    test_results.to_csv(test_output_table,mode = 'a',header=False, sep=';')"
   ]
  },
  {
   "cell_type": "code",
   "execution_count": 13,
   "metadata": {
    "scrolled": true
   },
   "outputs": [
    {
     "name": "stdout",
     "output_type": "stream",
     "text": [
      "Test dataset performance of the best 5 (out of 108 tested models):\n+----------------------------+-----------------------+----------------------+\n| Model name                 |   Mean absolute error |   Mean squared error |\n+============================+=======================+======================+\n| 06_105_l-15_l-10_l-5_d-0.2 |                 0.912 |                1.007 |\n+----------------------------+-----------------------+----------------------+\n| 06_68_l-10_l-5_l-5_d-0.1   |                 0.912 |                1.007 |\n+----------------------------+-----------------------+----------------------+\n| 06_52_l-5_l-10_l-10        |                 0.912 |                1.007 |\n+----------------------------+-----------------------+----------------------+\n| 06_15_l-1_l-5_l-5_d-0.2    |                 0.912 |                1.008 |\n+----------------------------+-----------------------+----------------------+\n| 06_23_l-1_l-10_l-5_d-0.1   |                 0.912 |                1.008 |\n+----------------------------+-----------------------+----------------------+\n"
     ]
    }
   ],
   "source": [
    "print('Test dataset performance of the best {} (out of {} tested models):'.format(min(selection, len(models)), len(models)))\n",
    "print(tabulate(test_results, headers='keys', tablefmt=\"grid\", numalign=\"right\", floatfmt=\".3f\"))"
   ]
  },
  {
   "cell_type": "code",
   "execution_count": 15,
   "metadata": {
    "collapsed": true
   },
   "outputs": [
    {
     "name": "stdout",
     "output_type": "stream",
     "text": [
      "[305.86615]\n[305.86865]\n[305.86398]\n[305.85342]\n[305.86472]\n[305.8601]\n[305.86282]\n[305.86057]\n[305.4461]\n[305.4411]\n[305.43173]\n[305.41656]\n[305.4244]\n[305.4322]\n[305.43942]\n[306.83002]\n[304.82205]\n[304.80103]\n[304.7979]\n[304.7839]\n[304.78308]\n[304.80713]\n[306.19708]\n[307.3917]\n[304.2183]\n[305.5149]\n[304.20038]\n[304.1874]\n[304.18887]\n[304.20132]\n[307.72607]\n[307.17725]\n[305.0176]\n[306.03906]\n[303.7633]\n[303.75742]\n[303.76132]\n[303.7526]\n[308.7955]\n[306.35382]\n[306.74002]\n[305.99518]\n[303.524]\n[303.52032]\n[303.5313]\n[303.50876]\n[308.9071]\n[305.2709]\n[308.6962]\n[305.48816]\n[303.46533]\n[304.5673]\n[303.47235]\n[303.4492]\n[308.1305]\n[304.24188]\n[310.03598]\n[306.20526]\n[304.60458]\n[306.4687]\n[303.53717]\n[303.51462]\n[306.80075]\n[303.46948]\n[310.30328]\n[306.64822]\n[305.48642]\n[307.8406]\n[303.68127]\n[303.6699]\n[305.30765]\n[303.0209]\n[309.54407]\n[306.44455]\n[305.79483]\n[308.2215]\n[303.8618]\n[303.87006]\n[303.97867]\n[302.86545]\n[308.09448]\n[307.21417]\n[305.6414]\n[307.70346]\n[304.06036]\n[304.08133]\n[302.9993]\n[302.9288]\n[306.36362]\n[307.61002]\n[305.25043]\n[306.64252]\n[304.2503]\n[305.2658]\n[302.4452]\n[303.1342]\n[304.69315]\n[307.27832]\n[306.05182]\n[306.91812]\n[304.42764]\n[306.12015]\n[302.27158]\n[303.40347]\n[303.33838]\n[306.36713]\n[306.58206]\n[307.03696]\n[304.58395]\n[306.3905]\n[302.36896]\n[303.69165]\n[302.44485]\n[305.1858]\n[306.51892]\n[307.97443]\n[304.7136]\n[306.19788]\n[303.73288]\n[303.96497]\n[302.0118]\n[304.0504]\n[305.9969]\n[308.4903]\n[304.81122]\n[305.75223]\n[305.91193]\n[304.21353]\n[303.1841]\n[303.1901]\n[305.27213]\n[308.17007]\n[304.89432]\n[305.26035]\n[307.49347]\n[304.42938]\n[304.18967]\n[302.67896]\n[304.57468]\n[307.15445]\n[304.96252]\n[306.0002]\n[308.02252]\n[304.61008]\n[304.64987]\n[302.49728]\n[304.05368]\n[307.36148]\n[305.01556]\n[306.50558]\n[307.6124]\n[304.75598]\n[304.6459]\n[302.56174]\n[303.7345]\n[307.36545]\n[305.0533]\n[306.47397]\n[308.0928]\n[304.86127]\n[305.74408]\n[303.8839]\n[303.6077]\n[306.80713]\n[305.0807]\n[306.01025]\n[309.2212]\n[304.94006]\n[306.44324]\n[304.9295]\n[303.63208]\n[305.79324]\n[305.09848]\n[305.37692]\n[309.93176]\n[304.99097]\n[306.44806]\n[305.3938]\n[303.7513]\n[304.59198]\n[305.10794]\n[304.75867]\n[310.78192]\n[305.03033]\n[305.90164]\n[305.36832]\n[304.94867]\n[303.47675]\n[305.1129]\n[304.28564]\n[311.05853]\n[305.05905]\n[305.105]\n[305.07288]\n[305.83325]\n[302.64502]\n[305.11893]\n[303.99713]\n[310.43988]\n[305.07718]\n[304.32202]\n[304.7086]\n[306.12305]\n[302.1629]\n[305.1146]\n[303.87253]\n[309.07666]\n[305.08875]\n[305.04333]\n[304.40573]\n[305.95044]\n[302.03052]\n[305.10812]\n[303.87494]\n[307.30487]\n[305.09317]\n[305.61697]\n[304.21448]\n[305.53348]\n[302.1641]\n[306.06967]\n[303.96576]\n[305.43204]\n[305.09903]\n[305.6672]\n[304.1283]\n[306.29022]\n[303.58075]\n[306.72308]\n[304.10187]"
     ]
    },
    {
     "name": "stdout",
     "output_type": "stream",
     "text": [
      "\n[303.7649]\n[305.10406]\n[305.28253]\n[305.18582]\n[306.7627]\n[304.7096]\n[306.83698]\n[304.25705]\n[302.49823]\n[305.1035]\n[304.70065]\n[305.9613]\n[306.64822]\n[305.2303]\n[306.53815]\n[304.416]\n[301.71997]\n[305.10693]\n[304.13696]\n[306.17493]\n[306.08762]\n[305.24747]\n[306.03198]\n[304.55933]\n[301.4077]\n[305.11246]\n[303.72626]\n[305.94162]\n[305.3403]\n[304.9818]\n[305.4921]\n[305.66116]\n[302.7105]\n[305.11353]\n[303.5092]\n[306.75827]\n[304.6362]\n[304.63266]\n[305.03705]\n[307.43628]\n[303.8315]\n[305.11627]\n[303.45837]\n[307.21802]\n[304.10538]\n[304.3371]\n[304.71518]\n[308.6497]\n[304.39264]\n[305.12207]\n[303.5314]\n[307.01996]\n[303.78253]\n[304.149]\n[304.5243]\n[309.93323]\n[304.4743]\n[305.1262]\n[303.6846]\n[306.31693]\n[303.65228]\n[304.06888]\n[304.43954]\n[310.54752]\n[304.2876]\n[305.1231]\n[303.88144]\n[305.416]\n[303.67645]\n[304.08347]\n[304.42587]\n[310.19733]\n[304.02792]\n[305.12326]\n[305.09442]\n[304.58362]\n[303.79688]\n[304.1623]\n[304.46313]\n[310.39038]\n[303.8208]\n[305.12143]\n[305.97418]\n[303.96545]\n[304.98688]\n[304.28055]\n[304.52652]\n[310.19302]\n[303.72052]\n[305.12073]\n[306.26743]\n[303.59055]\n[305.85974]\n[304.40494]\n[304.60724]\n[309.29987]\n[303.73288]\n[305.1212]\n[306.0803]\n[303.4425]\n[306.14935]\n[304.5289]\n[304.6933]\n[307.86023]\n[303.82962]\n[306.08914]\n[305.65353]\n[303.46646]\n[305.97818]\n[305.62518]\n[304.77582]\n[306.16754]\n[305.01053]\n[307.74356]\n[305.18503]\n[303.6056]\n[305.56802]\n[306.38513]\n[304.84964]\n[304.52283]\n[305.88327]\n[308.86835]\n[304.78665]\n[303.79306]\n[305.1111]\n[306.58212]\n[304.91415]\n[303.16812]\n[306.1702]\n[309.038]\n[304.51495]\n[303.99887]\n[304.73022]\n[306.33096]\n[305.9369]\n[302.2606]\n[305.98978]\n[308.3588]\n[304.36017]\n[304.19995]\n[304.46786]\n[305.8585]\n[306.6337]\n[301.81586]\n[305.55768]\n[307.18234]\n[304.30463]\n[304.3909]\n[304.32413]\n[305.35434]\n[306.7788]\n[301.7476]\n[305.08292]\n[305.89398]\n[304.32666]\n[304.5567]\n[304.27206]\n[304.92413]\n[306.48764]\n[303.12344]\n[304.68387]\n[304.75827]\n[304.38907]\n[304.6946]\n[304.29706]\n[304.6158]\n[305.98862]\n[304.25546]\n[304.408]\n[303.93332]\n[304.47864]\n[304.8097]\n[304.3684]\n[304.43527]\n[306.65442]\n[304.8025]\n[304.2562]\n[303.44446]\n[305.56366]\n[304.88864]\n[304.464]\n[305.40903]\n[307.05743]\n[304.85703]\n[304.21332]\n[303.2445]\n[306.33383]\n[304.94507]\n[304.57117]\n[306.1061]\n[306.89496]\n[304.63318]\n[304.2431]\n[303.25195]\n[306.5353]\n[305.95352]\n[304.67447]\n[306.25772]\n[306.29688]\n[304.33743]\n[305.33]\n[303.39664]\n[306.2886]\n[306.64676]\n[304.7622]\n[305.98553]\n[305.51147]\n[304.08618]\n[306.1242]\n[303.61102]\n[305.8166]\n[306.79016]\n[305.81122]\n[305.51337]\n[304.77078]\n[303.9462]\n[306.35556]\n[303.85037]\n[305.31226]\n[306.5021]\n[306.5447]\n[306.24756]\n[304.21024]\n[303.9156]\n[306.13565]\n[305.08252]\n[304.89]\n[306.00104]\n[306.7008]\n[306.71725]\n[303.8653]\n[303.97397]\n[305.6819]\n[305.97852]\n[304.58258]\n[305.46597]\n[306.42438]\n[306.6104]\n[304.8483]\n[305.11765]\n[305.19122]\n[306.28662]\n[305.4791]\n[305.01474]\n[305.9343]\n[306.05692]\n[306.6868]\n[305.9472]\n[304.7856]\n[306.12173]\n[306.14072]\n[304.69653]\n[305.403]\n[305.31116]\n[308.0205]\n[306.1946]\n[304.50293]\n[305.6993]\n[306.26706]\n[304.50607]\n[304.95496]\n[304.61703]\n[308.35645]\n[305.98297]\n[304.3432]\n[305.2287]\n[305.97284]\n[304.42456]\n[304.6367]\n[304.09714]\n[307.79874]\n[305.54755]\n[304.27808]\n[304.82077]\n[305.46622]\n[304.42227]\n[304.44943]\n[303.7817]\n[306.69507]\n[305.08237]\n[304.28827]\n[304.5356]\n[304.9508]\n[304.4713]\n[304.37445]\n[303.6543]\n[305.43478]\n[304.69772]\n[304.3554]\n[304.37848]\n[304.5345]\n[304.54675]\n[304.3763]\n[303.67188]\n[304.31796]\n[304.43155]\n[304.4566]\n[304.33026]\n[304.25833]\n[304.6338]\n[304.42365]\n[303.77686]\n[303.50848]\n[304.29346]\n[304.56586]\n[304.35904]\n[304.11737]\n[304.71902]\n[304.49963]\n[303.93652]\n[303.0399]\n[305.30728]\n[304.6608]\n[304.42978]\n[304.08237]\n[305.7762]\n[305.57416]\n[304.1188]\n[302.87704]\n[306.04294]\n[305.72195]\n[305.51694]\n[304.13162]\n[306.5165]\n[306.33987]\n[304.30154]\n[302.93848]\n[306.23215]\n[306.4647]\n[306.2942]\n[305.24243]\n[306.68588]\n[306.55054]\n[305.45337]\n[303.13626]\n[305.9736]\n[306.6497]\n[306.5003]\n[306.04813]\n[306.4053]\n[306.30762]\n[307.2815]\n[304.44888]\n[305.50113]\n[306.38474]\n[306.25174]\n[306.2837]\n[305.90714]\n[305.83844]\n[308.54086]\n[306.49677]\n[305.0107]\n[305.89236]\n[305.7757]\n[306.0717]\n[305.3788]\n[305.33173]\n[308.81]\n[307.94168]\n[305.789]\n[305.3753]\n[305.27243]\n[305.63693]\n[304.9242]\n[306.06143]\n[308.1941]\n[309.4292]\n[306.32]\n[304.94666]\n[304.85028]\n[306.37375]\n[304.59918]\n[306.53912]\n[307.05212]\n[310.1812]\n[306.30508]\n[304.64844]\n[305.67386]\n[306.83594]\n[304.41077]\n[306.47812]\n[305.7902]\n[309.90887]\n[305.8601]\n[305.55078]\n[306.2669]\n[306.7102]\n[304.34094]\n[306.00842]\n[304.68033]\n[310.16644]\n[305.23404]\n[306.1968]\n[306.30124]\n[306.13837]\n[304.3579]\n[305.3638]\n[305.20297]\n[310.00534]\n[304.6436]\n[306.30576]\n[305.91827]\n[306.7583]\n[304.42218]\n[304.74918]\n[305.65247]\n[309.14023]\n[304.19342]\n[307.2795]\n[305.35538]\n[307.09756]\n[304.50687]\n[304.28015]\n[306.96396]\n[307.7227]\n[303.91205]\n[307.81207]\n[304.80176]\n[306.81378]\n[304.59756]\n[303.99634]\n[307.78986]\n[307.6413]\n[303.79306]\n[307.60455]"
     ]
    },
    {
     "name": "stdout",
     "output_type": "stream",
     "text": [
      "\n[305.57584]\n[306.06314]\n[304.68958]\n[303.87924]\n[307.75284]\n[307.4651]\n[303.8074]\n[306.80936]\n[306.1222]\n[305.12717]\n[304.77823]\n[303.88303]\n[306.97824]\n[306.76987]\n[303.9123]\n[305.7523]\n[306.11182]\n[304.26773]\n[304.849]\n[303.97034]\n[305.8005]\n[305.67737]\n[304.05832]\n[304.72348]\n[305.67453]\n[303.6308]\n[305.87842]\n[304.09973]\n[304.573]\n[304.43063]\n[305.22034]\n[303.92548]\n[305.06583]\n[304.51492]\n[306.59503]\n[304.24234]\n[303.56924]\n[303.2805]\n[306.06113]\n[303.42294]\n[304.49612]\n[305.22714]\n[306.75305]\n[304.39133]\n[302.91113]\n[302.42596]\n[306.32172]\n[304.38757]\n[304.07382]\n[305.38657]\n[306.46774]\n[305.51373]\n[302.60614]\n[301.95264]\n[306.12152]\n[305.16296]\n[303.8289]\n[305.1209]\n[305.96646]\n[306.3029]\n[303.76614]\n[301.83673]\n[305.6814]\n[306.70056]\n[303.73526]\n[304.6606]\n[306.63153]\n[306.52597]\n[304.72086]\n[301.98157]\n[305.2042]\n[308.5432]\n[303.76978]\n[304.2045]\n[307.03064]\n[307.52975]\n[305.1212]\n[302.3029]\n[304.80276]\n[310.29358]\n[304.9208]\n[303.86328]\n[306.8701]\n[308.99905]\n[305.05554]\n[302.70865]\n[304.52228]\n[311.75262]\n[305.7662]\n[304.84888]\n[306.2758]\n[309.93646]\n[304.74554]\n[303.1344]\n[304.36987]\n[312.61823]\n[306.04425]\n[305.5965]\n[305.49985]\n[309.8926]\n[304.38675]\n[303.5425]\n[304.32083]\n[312.50275]\n[307.13547]\n[305.7832]\n[304.76968]\n[308.95627]\n[304.09668]\n[303.9031]\n[304.3448]\n[311.4091]\n[307.73074]\n[305.51794]\n[305.46802]\n[307.48502]\n[303.92233]\n[304.2092]\n[304.41525]\n[309.6276]\n[307.55713]\n[305.03775]\n[305.99384]\n[305.86536]\n[303.8648]\n[304.45126]\n[304.50705]\n[307.54922]\n[306.79968]\n[305.82816]\n[305.9717]\n[305.96228]\n[304.9697]\n[304.64526]\n[304.60693]\n[307.09546]\n[305.77405]\n[307.4373]\n[305.52344]\n[306.05615]\n[305.77448]\n[304.7956]\n[304.7042]\n[306.74014]\n[306.19577]\n[308.56836]\n[304.90036]\n[307.11908]\n[306.01593]\n[304.9087]\n[304.793]\n[306.056]\n[307.5825]\n[308.73947]\n[304.31592]\n[307.76514]\n[305.80682]\n[305.9566]\n[304.87048]\n[305.0425]\n[308.58774]\n[308.04236]\n[303.88943]\n[307.59735]\n[305.3844]\n[306.6713]\n[304.93213]\n[303.90048]\n[309.77112]\n[306.8061]\n[303.6507]\n[306.73218]\n[304.9241]\n[307.97766]\n[304.97906]\n[302.8565]\n[310.31042]\n[305.40958]\n[303.58176]\n[305.48315]\n[304.54266]\n[308.7128]\n[305.01126]\n[302.1005]\n[309.89688]\n[304.16568]\n[303.6428]\n[304.20602]\n[304.2977]\n[308.5766]\n[305.03464]\n[303.11282]\n[308.68356]\n[303.24658]\n[303.78497]\n[303.16525]\n[305.26535]\n[307.74567]\n[305.05246]\n[304.00912]\n[307.0189]\n[304.03635]\n[303.97006]\n[302.48352]\n[307.03555]\n[308.01584]\n[305.06735]\n[304.37454]\n[305.26886]\n[304.732]\n[305.16855]\n[302.1711]\n[308.98618]\n[308.05856]\n[305.0819]\n[304.26733]\n[303.72864]\n[304.93536]\n[306.03198]\n[302.17178]\n[310.29446]\n[308.82452]\n[305.09055]\n[303.92493]\n[302.5824]\n[304.72186]\n[306.30576]\n[302.3843]\n[310.50546]\n[310.00363]\n[305.09857]\n[303.56427]\n[301.92395]\n[304.30524]\n[306.1062]\n[302.72433]\n[309.69846]\n[310.71567]\n[305.10114]\n[303.30582]\n"
     ]
    },
    {
     "name": "stdout",
     "output_type": "stream",
     "text": [
      "[301.69888]\n[303.8921]\n[305.67368]\n[303.1149]\n[308.2238]\n[310.49884]\n[305.1081]\n[303.19775]\n[301.8022]\n[303.5974]\n[305.20004]\n[303.5026]\n[306.48453]\n[309.4177]\n[305.1131]\n[303.24112]\n[302.11295]\n[304.64276]\n[304.7962]\n[303.85092]\n[304.82224]\n[307.7869]\n[305.1156]\n[303.38696]\n[302.53806]\n[305.43484]\n[304.51907]\n[305.13794]\n[303.50748]\n[305.965]\n[305.12112]\n[303.59164]\n[302.99374]\n[305.65118]\n[304.36502]\n[306.05887]\n[302.65088]\n[304.24936]\n[305.11792]\n[303.82635]\n[303.42456]\n[305.42032]\n[304.31314]\n[306.37393]\n[302.23166]\n[302.8808]\n[305.10574]\n[304.0624]\n[304.7991]\n[304.96072]\n[304.32748]\n[307.4446]\n[302.16513]\n[301.98312]\n[305.102]\n[304.28604]\n[305.79736]\n[304.48843]\n[305.39703]\n[308.02673]\n[302.33792]\n[301.56155]\n[305.10077]\n[304.48514]\n[306.17184]\n[304.12015]\n[306.16904]\n[307.8314]\n[303.73853]\n[301.53497]\n[306.06885]\n[304.65112]\n[306.05994]\n[303.9068]\n[306.383]\n[307.03302]\n[304.84372]\n[301.78223]\n[306.73376]\n[304.78]\n[305.6914]\n[303.83688]\n[306.15073]\n[305.9804]\n[305.3401]\n[302.18768]\n[306.86038]\n[304.8779]\n[305.2547]\n[303.87878]\n[305.7003]\n[304.97]\n[305.33557]\n[302.66464]\n[306.56006]\n[304.94818]\n[304.87805]\n[303.9901]\n[305.21283]\n[304.18097]\n[305.05777]\n[303.13873]\n[306.04193]\n[305.0029]\n[305.71933]\n[304.12906]\n[304.802]\n[303.66605]\n[304.71036]\n[303.57245]\n[305.49658]\n[305.04117]\n[306.305]\n[304.27817]\n[304.50296]\n[303.40756]\n[304.41254]\n[303.94287]\n[305.0245]\n[305.07068]\n[307.5919]\n[304.42703]\n[304.33115]\n[303.36288]\n[305.34473]\n[304.25192]\n[305.7983]\n[305.0894]\n[308.3427]\n[305.5448]\n[304.27142]\n[304.5365]\n[306.02438]\n[305.46857]\n[306.34555]\n[305.09735]\n[308.21848]\n[307.3443]\n[304.29132]\n[305.41965]\n[306.1472]\n[306.32877]\n[306.37173]\n[305.09784]\n[307.37595]\n[308.58472]\n[304.3547]\n[306.9735]\n[305.83963]\n[306.5918]\n[305.98224]\n[305.09918]\n[306.1768]\n[308.83997]\n[304.45166]\n[307.92786]\n[306.63483]\n[306.38095]\n[305.40714]\n[305.10272]\n[304.97717]\n[308.23145]\n[304.554]\n[307.96393]\n[307.09564]\n[305.932]\n[304.83383]\n[305.10632]\n[304.00394]\n[307.10873]\n[304.65524]\n[307.25385]\n[306.908]\n[305.43268]\n[304.39288]\n[305.10672]\n[303.35944]\n[305.85193]\n[304.7482]\n[306.1602]\n[306.22784]\n[305.00665]\n[305.26105]\n[306.07474]\n[303.03662]\n[304.7398]\n[304.83136]\n[305.03452]\n[305.33893]\n[304.69324]\n[305.9155]\n[306.73883]\n[302.97205]\n[303.91782]\n[304.90173]\n[304.1164]\n[304.49472]\n[304.50473]\n[306.04086]\n[306.8615]\n[303.0847]\n[304.67703]\n[304.94946]\n[304.80212]\n[303.85257]\n[305.46997]\n[305.73215]\n[306.55847]\n[303.3103]\n[305.30203]\n[304.9873]\n[305.37296]\n[303.46484]\n[307.2094]\n[306.53915]\n[306.03516]\n[303.58615]\n[305.42538]\n[305.01004]\n[305.43042]\n[303.31274]\n[308.43518]\n[307.0133]\n[305.4872]\n[303.8655]\n[306.52368]\n[305.0316]\n[305.0758]\n[303.3401]\n[309.75223]\n[306.84613]\n[305.02457]\n[304.12115]\n[307.17682]\n[305.05725]\n[304.54962]\n[303.4793]\n[310.3938]\n[306.1686]\n[304.69666]\n[304.34106]\n[307.03534]\n[305.07806]\n[304.05225]\n[303.68143]\n[310.04953]\n[305.27548]\n[305.57968]\n[305.49887]\n[306.28546]\n[305.08948]\n[303.69064]\n[303.90952]\n[308.87552]\n[304.43488]\n[306.20508]\n[306.31647]\n[305.2766]\n[305.0941]\n[303.50937]\n[304.1328]\n[307.24664]\n[303.79724]\n[306.30472]"
     ]
    },
    {
     "name": "stdout",
     "output_type": "stream",
     "text": [
      "\n[306.55884]\n[304.29974]\n[305.10403]\n[303.49118]\n[304.33054]\n[305.54398]\n[303.4199]\n[305.98035]\n[306.35062]\n[304.93002]\n[306.07852]\n[303.58643]\n[304.49847]\n[304.06256]\n[303.27618]\n[305.4549]\n[305.90503]\n[305.44653]\n[306.75214]\n[303.75085]\n[304.6425]\n[302.992]\n[303.31256]\n[304.936]\n[305.40656]\n[305.44382]\n[306.87354]\n[304.96484]\n[304.7657]\n[302.3695]\n[304.5309]\n[304.52072]\n[304.9713]\n[305.0271]\n[306.56644]\n[305.859]\n[305.83273]\n[302.1517]\n[305.44507]\n[304.2455]\n[304.65277]\n[304.42856]\n[306.04398]\n[306.16898]\n[306.57724]\n[302.2378]\n[305.78403]\n[304.1134]\n[304.45572]\n[303.8821]\n[305.4956]\n[306.0023]\n[306.75806]\n[303.62256]\n[305.66608]\n[304.0945]\n[304.37317]\n[303.4931]\n[305.03073]\n[305.58978]\n[306.49313]\n[304.72827]\n[305.29904]\n[304.1537]\n[304.37015]\n[303.30542]\n[304.69653]\n[305.13474]\n[305.99313]\n[306.4897]\n[304.88406]\n[304.25253]\n[304.42563]\n[303.29642]\n[304.49292]\n[304.74863]\n[305.4603]\n[307.59912]\n[304.53696]\n[304.37454]\n[304.50604]\n[303.41537]\n[304.3968]\n[304.4778]\n[306.16418]\n[307.7527]\n[304.3023]\n[304.50516]\n[304.5926]\n[303.60052]\n[304.38358]\n[304.32327]\n[306.6301]\n[307.1222]\n[304.18192]\n[304.62247]\n[305.65863]\n[303.8206]\n[304.42148]\n[304.2733]\n[306.55856]\n[306.08194]\n[304.16412]\n[304.72183]\n[306.41638]\n[304.04565]\n[304.49017]\n[304.29144]\n[306.07062]\n[304.98593]\n[304.2116]\n[305.77896]\n[306.607]\n[304.25632]\n[304.58066]\n[305.36722]\n[305.39197]\n[305.47513]\n[304.30124]\n[306.51642]\n[307.58365]\n[304.44238]\n[304.67944]\n[306.1432]\n[304.7451]\n[306.9987]\n[304.41418]\n[306.69263]\n[308.0937]\n[304.59952]\n[304.77386]\n[306.35706]\n[304.25116]\n[308.13464]\n[305.51834]\n[306.42987]\n[307.8657]\n[304.72226]\n[304.85406]\n[306.1181]\n[303.9549]\n[308.3524]\n[306.306]\n[305.94333]\n[307.06137]\n[304.82498]\n[304.9215]\n[306.90628]\n[303.8381]\n[307.70157]\n[306.5269]\n[305.4245]\n[306.0061]\n[304.90485]\n[305.94382]\n[307.3495]\n[303.8518]\n[306.50693]\n[306.28687]\n[304.97537]\n[304.99454]\n[304.9623]\n[306.65637]\n[307.14044]\n[303.94757]\n[305.13748]\n[305.811]\n[304.65024]\n[304.1927]\n[305.00357]\n[307.96307]\n[306.44165]\n[304.08804]\n[303.90814]\n[305.3038]\n[304.45544]\n[303.6665]\n[305.04047]\n[309.5294]\n[305.53983]\n[304.2511]\n[303.00595]\n[304.88226]\n[304.3672]\n[303.40698]\n[305.0697]\n[310.5059]\n[304.70148]\n[304.41116]\n[303.83728]\n[304.58905]\n[304.36526]\n[303.36008]\n[305.09354]\n"
     ]
    },
    {
     "name": "stdout",
     "output_type": "stream",
     "text": [
      "[310.46262]\n[304.07574]\n[304.55283]\n[304.5896]\n[304.42212]\n[304.42056]\n[303.4624]\n[305.10315]\n[309.5063]\n[303.69836]\n[304.67392]\n[306.19363]\n[304.35776]\n[304.50076]\n[303.64243]\n[305.10382]\n[307.96265]\n[303.53555]\n[305.74762]\n[307.23972]\n[304.36737]\n[304.5963]\n[303.86023]\n[305.10834]\n[307.80566]\n[303.53812]\n[306.49194]\n[307.36346]\n[304.41934]\n[304.69382]\n[304.0863]\n[305.11127]\n[307.5821]\n[304.71133]\n[306.68057]\n[306.72598]\n[304.50128]\n[304.77957]\n[305.28467]\n[306.08075]\n[306.88467]\n[305.58987]\n[306.42212]\n[305.66595]\n[304.58878]\n[305.82593]\n[306.14578]\n[306.75015]\n[305.8087]\n[305.89188]\n[305.94443]\n[306.06827]\n[305.65805]\n[306.55682]\n[306.41644]\n[308.02374]\n[304.5968]\n[305.72983]\n[305.42215]\n[306.33185]\n[306.4]\n[306.72562]\n[306.22757]\n[309.56732]\n[303.50876]\n[306.60596]\n[304.97467]\n[306.04883]\n[306.58438]\n[306.44293]\n[305.79218]\n[310.52826]\n[304.18842]\n[307.10834]\n[304.6615]\n[305.30865]\n[306.33698]\n[305.94507]\n[305.31046]\n[310.47385]\n[304.79953]\n[306.95346]\n[305.55447]\n[304.40433]\n[305.86307]\n[305.41992]\n[304.8956]\n[309.49835]\n[304.89725]\n[306.3046]\n[306.1933]\n[305.06564]\n[305.34656]\n[306.13138]\n[304.59964]\n[307.95023]\n[304.5588]\n[305.45172]\n[307.52106]\n[305.58487]\n[304.90833]\n[306.61584]\n[304.42313]\n[306.22858]\n[304.02487]\n[304.6434]\n[308.3054]\n[305.54648]\n[304.6039]\n[306.55292]\n[304.3494]\n[306.2238]\n[303.5186]\n[304.02338]\n[308.21317]\n[305.04526]\n[304.4222]\n[307.40646]\n[305.3796]\n[306.24026]\n[303.16867]\n[303.63428]\n[307.41934]\n[304.32562]\n[304.3541]\n[307.83685]\n[306.12946]\n[305.8209]\n[303.0037]\n[304.62048]\n[306.2584]\n[303.6432]\n[304.37015]\n[307.5334]\n[306.3325]\n[306.5722]\n[303.01346]\n[305.39743]\n[305.06915]\n[303.16336]\n[304.4351]\n[306.65457]\n[307.35165]\n[307.00323]\n[303.16006]\n[305.6221]\n[304.09573]\n[302.9272]\n[304.51874]\n[305.54175]\n[307.89316]\n[306.73236]\n[303.3942]\n[306.74213]\n[303.43665]\n[302.90292]\n[304.61234]\n[304.50095]\n[307.66818]\n[305.88968]\n[303.66013]\n[307.4048]\n[303.1]\n[303.04022]\n[304.70258]\n[303.71588]\n[306.8621]\n[306.36636]\n[303.92578]\n[307.2946]\n[303.02365]\n[303.2748]\n[304.78833]\n[303.24185]\n[305.81967]\n[306.6354]\n[304.1748]\n[306.5757]\n[304.22766]\n[303.55093]\n[304.86432]\n[303.0484]\n[304.8178]\n[306.29614]\n[304.39545]\n[307.05054]\n[305.17468]\n[303.8339]\n[304.9304]\n[303.06607]\n[304.04614]\n[305.4736]\n[304.5783]\n[307.27255]\n[306.79657]\n[304.099]\n[304.98434]\n[304.30518]\n[304.81195]\n[304.4421]\n[305.69864]\n[306.88385]\n[307.81152]\n[304.32672]\n[305.02438]\n[305.25946]\n[305.44232]\n[303.48148]\n[306.4825]\n[305.9985]\n[309.08298]\n[304.51996]\n[305.0489]\n[305.62244]\n[305.562]\n[302.7755]\n[306.67]\n[304.9118]\n[309.7043]\n[304.6696]\n[305.05902]\n[305.51263]\n[305.24814]\n[302.39667]\n[306.40533]\n[303.91745]\n[309.37833]\n[304.7917]\n[305.064]\n[305.16718]\n[304.7296]\n[302.31622]\n[305.92502]\n[303.1811]\n[308.28027]\n[304.88382]\n[306.037]\n[304.7783]\n[304.23013]\n[302.46066]\n[305.4074]\n[304.06802]\n[308.30447]\n[304.9521]\n[306.70114]\n[304.4634]\n[303.86398]\n[302.73813]\n[304.97067]\n[305.97836]\n[308.14392]\n[305.0077]\n[306.8234]\n[304.257]\n[303.66904]\n[303.08386]\n[304.65836]\n[307.4016]\n[307.42688]\n[305.04007]\n[306.52264]\n[305.2462]\n[303.62457]\n[303.44302]\n[304.47522]\n[307.81613]\n[306.26544]\n[305.06158]\n[307.2354]\n[305.96747]\n[304.77002]\n[303.77704]\n[304.38968]\n[307.3172]\n[304.91733]\n[305.08304]\n[308.60974]\n[306.13556]\n[305.6147]\n[304.07608]\n[305.40967]\n[306.25876]\n[303.6737]\n[305.10272]\n[309.51755]\n[305.85214]\n[305.89664]\n[304.3215]\n[306.1335]\n[305.0345]\n[302.72885]\n[306.0827]\n[309.49222]\n[305.37045]\n[305.72104]\n[304.52475]\n[306.31342]\n[303.9591]\n[302.1751]\n[306.75378]\n[308.6201]\n[304.8829]\n[305.30194]\n[304.69092]\n[306.06177]\n[303.19382]\n[301.98874]\n[306.86252]\n[307.23264]\n[304.48547]\n[304.85428]\n[304.8207]\n[305.59488]\n[302.7745]\n[302.0754]\n[306.54788]\n[305.69717]\n[304.22247]"
     ]
    },
    {
     "name": "stdout",
     "output_type": "stream",
     "text": [
      "\n[304.49057]\n[304.91458]\n[305.11273]\n[302.65005]\n[302.34653]\n[306.02094]\n[304.33673]\n[304.1033]\n[304.25546]\n[304.98312]\n[305.88284]\n[302.75226]\n[302.7162]\n[305.4806]\n[303.33438]\n[304.0949]\n[304.14606]\n[305.0365]\n[307.4739]\n[302.987]\n[303.11877]\n[305.02524]\n[302.74728]\n[305.1897]\n[304.1347]\n[305.0718]\n[308.60052]\n[303.2868]\n[304.5182]\n[304.70062]\n[302.51776]\n[305.99182]\n[304.19418]\n[306.06104]\n[308.7823]\n[303.60684]\n[305.5578]\n[304.50854]\n[302.56372]\n[306.23108]\n[304.29587]\n[306.73526]\n[308.0993]\n[304.90976]\n[305.9721]\n[304.4261]\n[302.79077]\n[306.0135]\n[304.40726]\n[306.85434]\n[306.87173]\n[305.8589]\n[305.8947]\n[304.42102]\n[303.1069]\n[305.56305]\n[304.51944]\n[306.54498]\n[305.50363]\n[306.20798]\n[305.55466]\n[304.46402]\n[303.45212]\n[305.08148]\n[304.631]\n[306.02945]\n[304.30206]\n[307.3165]\n[305.14957]\n[304.53564]\n[303.7809]\n[304.6802]\n[304.72495]\n[305.48914]\n[304.8254]\n[308.8647]\n[304.79233]\n[304.61783]\n[304.07455]\n[304.40616]\n[304.80865]\n[305.02582]\n[306.45538]\n[309.8552]\n[304.53806]\n[304.7025]\n[305.30447]\n[304.26212]\n[304.88458]\n[304.6986]\n[307.68887]\n[309.8617]\n[304.395]\n[304.77573]\n[306.17938]\n[304.22144]\n[304.95026]\n[304.50317]\n[307.98853]\n[308.97318]\n[304.3451]\n[305.8146]\n[306.46768]\n[304.25732]\n[305.00415]\n[304.41522]\n[308.79907]\n[307.51303]\n[304.36703]\n[306.53873]\n[306.27313]\n[304.3352]\n[305.04047]\n[304.40857]\n[309.08493]\n[305.88528]\n[304.43097]\n[307.8649]\n[305.83582]\n[304.4389]\n[306.03427]\n[304.45786]\n[309.79285]\n[304.41827]\n[304.51187]\n[308.62198]\n[305.34515]\n[304.54752]\n[306.71683]\n[304.53857]\n[309.9843]\n[304.78683]\n[304.60666]\n[308.49658]\n[304.91763]\n[304.64914]\n[306.85324]\n[305.61987]\n[309.34985]\n[305.17297]\n[305.67917]\n[307.65817]\n[304.61444]\n[304.74112]\n[306.53503]\n[307.3899]\n[308.05212]\n[305.10513]\n[306.43384]\n[306.48526]\n[305.513]\n[304.82697]\n[305.99988]\n[308.60965]\n[306.40268]\n[304.6569]\n[306.62158]\n[305.3028]\n[306.1705]\n[304.90237]\n[305.4442]\n[309.9006]\n[304.73413]\n[304.04785]\n[306.35693]\n[304.34302]\n[307.5133]\n[304.96042]\n[304.98145]\n[310.52252]\n[303.30115]\n[303.50183]\n[305.8795]\n[304.9795]\n[308.30103]\n[305.97382]\n[304.65515]\n[310.16806]\n[302.27258]\n[303.138]\n[305.36966]\n"
     ]
    },
    {
     "name": "stdout",
     "output_type": "stream",
     "text": [
      "[305.50168]\n[308.20523]\n[306.66348]\n[305.53864]\n[309.00208]\n[301.6931]\n[302.98355]\n[304.9388]\n[305.53845]\n[307.4024]\n[307.95532]\n[306.1892]\n[307.38867]\n[301.5363]\n[303.01218]\n[304.6333]\n[305.17105]\n[306.24225]\n[308.67606]\n[306.31116]\n[305.6882]\n[301.69553]\n[303.17]\n[305.53186]\n[304.64392]\n[305.05963]\n[308.52295]\n[306.0014]\n[305.76376]\n[302.04947]\n[303.39554]\n[306.18546]\n[304.13892]\n[305.49527]\n[307.68546]\n[305.48788]\n[305.86752]\n[302.4983]\n[304.68643]\n[306.29318]\n[303.77466]\n[305.8368]\n[306.52258]\n[304.96286]\n[305.52927]\n[304.00668]\n[305.64447]\n[305.96994]\n[303.58627]\n[307.06204]\n[305.3529]\n[304.539]\n[304.82654]\n[305.15247]\n[305.99393]\n[306.73666]\n[304.67358]\n[307.82715]\n[304.39517]\n[304.26224]\n[303.9968]\n[305.66968]\n[305.86264]\n[307.18317]\n[306.5862]\n[307.74036]\n[305.02945]\n[304.12552]\n[303.26688]\n[305.66135]\n[305.48495]\n[306.98325]\n[307.96353]\n[306.92755]\n[305.55887]\n[304.09958]\n[302.7728]\n[305.36603]\n[305.0562]\n[306.29764]\n[308.3384]\n[305.7296]\n[305.5923]\n[304.15182]\n[302.55374]\n[304.98984]\n[304.6905]\n[306.83743]\n[307.79166]\n[304.49344]\n[305.22372]\n[304.24838]\n[302.56995]\n[304.6648]\n[304.4362]\n[307.11856]\n[306.68384]\n[303.47495]\n[304.6684]\n[304.36795]\n[302.75656]\n[304.44028]\n[304.29636]\n[308.12607]\n[305.423]\n[304.19107]\n[304.14175]\n[304.49115]\n[303.0404]\n[304.31937]\n[304.25378]\n[308.66943]\n[304.31293]\n[304.83426]\n[303.7656]\n[304.6095]\n[303.36667]\n[304.2808]\n[304.28732]\n[308.36734]\n[303.51562]\n[304.9621]\n[303.56277]\n[304.71548]\n[303.6929]\n[304.3129]\n[304.3683]\n[307.37155]\n[303.05725]\n[304.651]\n[303.5207]\n[304.80966]\n[303.99213]\n[304.38177]\n[304.45828]\n[305.99884]\n[302.90128]\n[304.1511]\n[303.59656]\n[304.88818]\n[304.24796]\n[304.47803]\n[305.54346]\n[304.58234]\n[302.96747]\n[303.68594]\n[303.74423]\n[304.94852]\n[304.4604]\n[304.57986]\n[306.3205]\n[303.41803]\n[303.1632]\n[304.64734]\n[303.92834]\n[304.98825]\n[304.6281]\n[305.65854]\n[306.53207]\n[302.6375]\n[303.43167]\n[305.39014]\n[305.1262]\n[305.0181]\n[304.75732]\n[306.40997]\n[306.28967]\n[302.25522]\n[303.72507]\n[305.5631]\n[305.98853]\n[305.04105]\n[304.85223]\n[306.60327]\n[307.05737]\n[302.21075]\n[304.00903]\n[305.2639]\n[306.27408]\n[305.05707]\n[304.92612]\n[306.35464]\n[308.48022]\n[302.3908]\n[304.2621]\n[304.74963]\n[306.09555]\n[305.0755]\n[304.9827]\n[305.87448]\n[309.43164]\n[302.70374]\n[304.46985]\n[304.24115]\n[305.68054]\n[305.0813]\n[305.0259]\n[306.55865]\n[309.44043]\n[303.073]\n[304.63873]\n[303.86118]\n[305.2201]\n[305.08682]\n[305.0592]\n[306.97443]\n[308.59177]\n[303.44824]\n[304.77536]\n[303.65045]\n[304.8173]\n[305.09732]\n[305.08612]\n[306.81482]\n[307.2089]\n[303.80322]\n[305.8491]\n[303.59622]\n[304.53668]\n[305.10486]\n[305.10077]\n[306.2205]\n[305.67728]\n[304.11356]\n[306.58868]\n[303.65958]\n[304.3714]\n[305.11423]\n[305.11496]\n[305.44754]\n[304.30997]\n[304.3704]\n[306.75323]\n[303.7986]\n[305.35812]\n[305.124]\n[305.12146]\n[304.72516]\n[303.3092]\n[304.5734]\n[306.47052]\n[303.97217]\n[306.07727]\n[305.12692]\n[305.12543]\n[304.18314]\n[302.71896]\n[304.72693]\n[305.96912]\n[304.1562]\n[306.25012]\n[305.12393]\n[305.12952]\n[303.8502]\n[302.49536]\n[304.84564]\n[305.43982]\n[304.33023]\n[305.994]\n[305.12195]\n[305.13223]\n[303.70892]\n[302.54523]\n[304.9307]\n[304.99127]\n[304.48712]\n[305.52518]\n[305.1236]\n[305.12793]\n[303.71094]\n[302.7699]\n[304.98718]\n[304.66696]\n[304.62216]\n[305.02026]\n[305.12274]\n[305.1238]\n[303.80667]\n[303.08603]\n[305.03073]\n[304.4693]\n[304.74054]\n[304.60736]\n[305.1197]\n[305.1195]\n[303.96277]\n[303.4317]\n[305.06677]\n[304.38333]\n[304.8422]\n[305.45953]\n[305.11487]\n[306.08395]\n[304.144]\n[303.7656]\n[305.0947]\n[304.37686]\n[304.92538]\n[306.07428]\n[305.1061]\n[306.73175]\n[304.31955]\n[304.06305]\n[305.11166]\n[305.43085]\n[304.99014]\n[307.40546]\n[305.10165]\n[307.9942]\n[304.48495]\n[304.31442]\n[305.11868]\n[306.19205]\n[305.02762]\n[308.20663]\n[306.06686]\n[309.53693]\n[304.6343]\n[304.51666]\n[305.12115]\n[306.39307]\n[305.05728]\n[309.32135]\n[306.7329]\n[310.49838]\n[304.76157]\n[304.67374]\n[305.12698]\n[306.14322]\n[305.0735]\n[309.83984]\n[308.0072]\n[310.45508]\n[304.8541]\n[304.7981]\n[305.1363]\n[305.68427]\n[305.08228]\n[309.4384]\n[308.71625]\n[309.49448]\n[304.91803]\n[304.8966]\n[305.1367]\n[305.19623]\n[306.05524]\n[309.69376]\n[308.5655]\n[307.95874]\n[304.9684]\n[304.9712]\n[305.1286]\n[304.79358]\n[306.71457]\n[309.5642]\n[307.72772]\n[306.2388]\n"
     ]
    },
    {
     "name": "stdout",
     "output_type": "stream",
     "text": [
      "[305.00885]\n[305.02084]\n[305.1184]\n[305.63162]\n[306.84067]\n[310.00665]\n[306.5548]\n[304.6557]\n[305.04123]\n[305.0507]\n[305.10983]\n[306.2308]\n[306.54227]\n[310.04874]\n[305.3716]\n[303.45026]\n[305.07184]\n[305.06863]\n[305.10986]\n[306.2878]\n[306.0283]\n[309.3286]\n[304.40622]\n[304.0775]\n[305.09756]\n[305.08243]\n[305.10684]\n[305.91113]\n[305.48917]\n[307.98886]\n[303.75156]\n[304.69162]\n[306.08395]\n[305.09265]\n[305.1087]\n[305.3498]\n[305.0332]\n[306.32587]\n[303.39655]\n[304.83768]\n[306.76364]\n[305.10303]\n[305.10953]\n[304.80646]\n[304.70157]\n[304.65182]\n[303.28958]\n[304.57684]\n[306.87695]\n[305.1085]\n[305.11588]\n[304.38754]\n[304.4961]\n[303.2078]\n[303.35468]\n[304.12613]\n[306.55518]\n[305.11542]\n[305.124]\n[304.12653]\n[304.40457]\n[303.71918]\n[304.5776]\n[303.69287]\n[307.2518]\n[305.12463]\n[305.13113]\n[304.01132]\n[304.39758]\n[304.26917]\n[306.5652]\n[303.3929]\n[308.61612]\n[305.124]\n[305.13593]\n[305.07205]\n[304.44254]\n[304.36627]\n[307.96304]\n[303.26263]\n[309.5186]\n[305.12158]\n[305.13846]\n[305.84525]\n[305.51413]\n[304.05508]\n[308.3406]\n[303.28632]\n[310.5291]\n[305.12244]\n[305.13898]\n[306.05054]\n[306.26425]\n[305.06784]\n[307.81583]\n[303.42316]\n[310.93192]\n[305.12088]\n[305.13785]\n[305.82626]\n[306.45508]\n[305.768]\n[306.7605]\n[304.67477]\n[310.40976]\n[305.1146]\n[305.12894]\n[305.39743]\n[306.2114]\n[305.77322]\n[305.54016]\n[305.61145]\n[309.11136]\n[305.11053]\n[305.12067]\n[304.9373]\n[305.73654]\n[305.24152]\n[304.46582]\n[307.1688]\n[307.36987]\n[306.0751]\n[306.0835]\n[304.5575]\n[305.2368]\n[304.45917]\n[303.68903]\n[308.11432]\n[305.55612]\n[306.72354]\n[306.736]\n[304.30722]\n[304.8239]\n[303.69998]\n[303.23868]\n[308.13437]\n[303.96127]\n[306.83588]\n[306.8451]\n[304.18542]\n[304.54272]\n[303.1452]\n"
     ]
    },
    {
     "name": "stdout",
     "output_type": "stream",
     "text": [
      "[303.08057]\n[307.39905]\n[302.78616]\n[306.53183]\n[306.53876]\n[304.16672]\n[304.38254]\n[302.85403]\n[303.13702]\n[306.27127]\n[302.09253]\n[306.02322]\n[307.2478]\n[304.21762]\n[304.3271]\n[302.80035]\n[303.32294]\n[305.1122]\n[303.13937]\n[305.49213]\n[308.61902]\n[304.30798]\n[305.36734]\n[304.05063]\n[303.56903]\n[304.15775]\n[304.07138]\n[306.19284]\n[310.16296]\n[304.41626]\n[307.15402]\n[305.02045]\n[303.83298]\n[303.5109]\n[304.4721]\n[306.66208]\n[311.1707]\n[305.51733]\n[308.3988]\n[305.41135]\n[304.08075]\n[303.18164]\n[304.4146]\n[306.58878]\n[311.17615]\n[306.2987]\n[309.7288]\n[305.3373]\n[304.2964]\n[303.1149]\n[304.1308]\n[306.09808]\n[310.21054]\n[306.51404]\n[311.04312]\n[305.01474]\n[304.48566]\n[303.22372]\n[303.82156]\n[305.43478]\n[310.04538]\n[306.26834]\n[311.7748]\n[304.63937]\n[304.64258]\n[303.43314]\n[303.6017]\n[304.80496]\n[309.61636]\n[305.80206]\n[311.52737]\n[305.52142]\n[304.77405]\n[303.68246]\n[303.5093]\n[304.31934]\n[308.58548]\n[305.3037]\n[310.36945]\n[306.1456]\n[305.84445]\n[303.93973]\n[303.53418]\n[304.01797]\n[307.10886]\n[304.87753]\n[310.07535]\n[306.1879]\n[306.59262]\n[304.18408]\n[303.64838]\n[303.88065]\n[305.45502]\n[304.58075]\n[310.51843]\n[305.78687]\n[306.77618]\n[304.3982]\n[303.81967]\n[303.8709]\n[303.9185]\n[304.40536]\n[310.6963]\n[305.19568]\n[306.50677]\n[304.57437]\n[304.0182]\n[303.94653]\n[302.71606]\n[304.3337]\n[311.1472]\n[304.6188]\n[306.00818]\n[304.71783]\n[304.21173]\n[304.07538]\n[301.9542]\n[304.34183]\n[311.14288]\n[304.17807]\n[305.4667]\n[304.8263]\n[304.39008]\n[304.23322]\n[301.6238]\n[304.4037]\n[310.34805]\n[303.90387]\n[305.00244]\n[304.90863]\n[305.52563]\n[304.39523]\n[302.90027]\n[305.4879]\n[308.8903]\n[303.7905]\n[304.66916]\n[304.96368]\n[306.31308]\n[304.54254]\n[303.98737]\n[306.26025]\n[308.56744]\n[303.80597]\n[304.47314]\n[305.00595]\n[306.5324]\n[304.67596]\n[304.51575]\n[306.4666]\n[308.14917]\n[303.90555]\n[304.38986]\n[305.04034]\n[306.29138]\n[305.7603]\n[304.54465]\n[306.22574]\n[307.28632]\n[304.05118]\n[304.38507]\n[305.06604]\n[307.05573]\n[306.5162]\n[304.31232]\n[305.76614]\n[307.5311]\n[304.20917]\n[304.43256]\n[306.05118]\n[308.4789]\n[307.86124]\n[304.02905]\n[305.27036]\n[307.55865]\n[305.35648]\n[304.50925]\n[306.7234]\n[310.06464]\n[309.45847]\n[303.81522]\n[306.01266]\n[307.01932]\n[306.1779]\n[304.59247]\n[306.85193]\n[311.50253]\n[310.98312]\n[303.70587]\n[306.51526]\n[306.01178]\n[306.43298]\n[304.67426]\n[306.54504]\n[312.3851]\n[311.92456]\n[303.70514]\n[306.4579]\n[304.7637]\n[306.2302]\n[304.75632]\n[306.033]\n[312.27768]\n[311.86038]\n[303.7921]\n[305.98688]\n[303.5218]\n[305.7921]\n[305.80466]\n[305.4848]\n[311.19708]\n[310.81958]\n[303.93222]\n[305.34366]\n[302.50693]\n[305.3012]\n[306.53003]\n[305.01846]\n[309.41772]\n[309.12363]\n[305.11346]\n[306.01755]\n[301.8465]\n[306.04147]\n[306.70047]\n[304.68414]\n[307.35486]\n[307.14847]\n[305.96686]\n[306.45886]\n[301.56104]\n[306.53867]\n[306.4219]\n[304.48584]\n[305.33945]\n[305.21274]\n[306.2448]\n[306.32706]\n[301.5972]\n[306.48703]\n[305.9271]\n[304.40085]\n[303.63046]\n[303.59265]\n[306.06042]\n[305.76547]\n[301.86694]\n[306.00183]\n[305.40158]\n[304.39758]\n[302.38495]\n[302.45657]\n[305.63022]\n[305.02405]\n[302.2799]\n[305.3431]\n[304.96652]\n[304.4423]\n[301.66068]\n[301.84308]\n[305.1586]\n[304.3444]\n[302.75403]\n[304.7262]\n[305.7699]\n[304.5181]\n[302.74118]\n[301.66653]\n[304.75638]\n[305.11862]\n[303.21646]\n[305.48135]\n[306.34274]\n[304.60617]\n[303.73166]\n[301.80905]\n[304.47888]\n[305.70932]\n[303.63315]\n[306.0374]\n[306.37622]\n[304.69672]\n[304.20453]\n[303.26807]\n[304.323]\n[305.76236]\n[303.98767]\n[306.05368]\n[305.9955]\n[304.78268]\n[304.20596]\n[304.43542]\n[304.2769]\n[305.38748]\n[304.283]\n[305.63803]\n[305.43292]\n[304.8551]\n[303.95752]\n[304.99347]\n[304.30484]\n[306.2057]\n[305.49084]\n[305.04373]\n[304.87912]\n[304.92154]\n[303.6758]\n[305.0481]\n[304.37637]\n[306.72174]\n[306.34647]\n[304.47537]\n[304.44363]\n[304.97418]\n[303.48123]\n[304.82898]\n[304.4715]\n[306.58163]\n[306.59814]\n[304.04114]\n[304.1615]\n[305.01508]\n[303.4002]\n[305.77423]\n[305.55942]\n[305.9024]\n[306.38345]\n[303.7806]\n[304.02286]\n[305.03888]\n[303.43314]\n[307.46588]\n[306.3245]\n[305.00983]\n[305.93036]\n[303.6864]\n[303.99786]\n[305.059]\n[303.55768]\n[308.645]\n[306.52838]\n[304.1708]\n[305.42795]\n[303.71973]\n[304.05627]\n[305.0769]\n[303.7397]\n[308.82523]\n[307.52173]\n[303.55856]\n[304.9974]\n[304.88223]\n[304.16776]"
     ]
    },
    {
     "name": "stdout",
     "output_type": "stream",
     "text": [
      "\n[305.08652]\n[304.9631]\n[308.1131]\n[308.04712]\n[303.20724]\n[305.7963]\n[305.74683]\n[304.30484]\n[305.083]\n[305.85147]\n[306.86954]\n[307.8204]\n[303.09055]\n[306.36777]\n[306.03613]\n[304.44034]\n[305.08502]\n[306.16122]\n[305.47177]\n[307.0259]\n[304.26672]\n[306.38965]\n[305.85614]\n[304.5708]\n[305.09073]\n[306.0065]\n[304.23306]\n[305.97995]\n[306.27982]\n[307.30743]\n[305.4475]\n[304.6825]\n[305.10318]\n[305.6138]\n[304.74277]\n[304.96268]\n[307.7262]\n[308.7665]\n[304.99777]\n[305.7515]\n[305.11285]\n[305.16595]\n[305.19415]\n[304.15665]\n[308.16187]\n[309.72473]\n[304.627]\n[306.50146]\n[305.12015]\n[305.9461]\n[305.17026]\n[303.63715]\n[307.67322]\n[309.71072]\n[304.36588]\n[306.67426]\n[305.12732]\n[306.481]\n[306.22156]\n[303.39407]\n[308.10553]\n[308.7999]\n[304.21942]\n[306.40717]\n[305.1241]\n[306.4564]\n[306.8784]\n[303.36255]\n[308.2109]\n[307.33487]\n[304.17593]\n[307.14856]\n[305.1241]\n[305.99753]\n[308.09464]\n[304.54425]\n[308.9718]\n[305.7094]\n[304.20807]\n[308.54752]\n[306.0934]\n[305.35434]\n[308.74774]\n[306.51797]\n[309.28024]\n[304.239]\n[304.29108]\n[309.47687]\n[306.7527]\n[304.7257]\n[308.49945]\n[307.92795]\n[308.76697]\n[303.13986]\n[304.39737]\n[309.4639]\n[306.87125]\n[305.47217]\n[307.51306]\n[309.40054]\n[307.5787]\n[302.49258]\n[304.51605]\n[308.60608]\n[307.78165]\n[306.0301]\n[306.10645]\n[310.1442]\n[306.0452]\n[302.24435]\n[304.63678]\n[307.22824]\n[308.2368]\n[306.05234]\n[304.62918]\n[309.8694]\n[304.50668]\n[302.28775]\n[304.73862]\n[305.69815]\n[307.9566]\n[305.64]\n[303.39108]\n[308.76083]\n[303.21835]\n[302.52603]\n[304.82166]\n[304.32886]\n[307.11768]\n[305.03653]\n[302.55804]\n[307.17343]\n[302.34277]\n[302.86914]\n[304.88837]\n[303.31735]\n[306.04022]\n[304.44632]\n[302.14774]\n[307.08856]\n[301.91583]\n[303.25058]\n[304.94907]\n[302.72742]\n[305.00943]\n[304.00253]\n"
     ]
    },
    {
     "name": "stdout",
     "output_type": "stream",
     "text": [
      "[302.08514]\n[306.9758]\n[301.8629]\n[303.6227]\n[304.99078]\n[302.50162]\n[304.19415]\n[304.924]\n[302.26715]\n[306.3964]\n[303.2251]\n[303.96045]\n[305.02765]\n[303.7047]\n[303.6631]\n[306.7239]\n[302.58936]\n[305.42703]\n[304.3392]\n[304.24698]\n[305.05838]\n[305.81113]\n[303.41068]\n[308.0098]\n[304.02673]\n[304.31686]\n[304.87805]\n[304.4775]\n[305.08237]\n[307.36392]\n[303.36578]\n[308.31467]\n[305.12323]\n[303.3188]\n[306.25757]\n[304.65936]\n[305.10358]\n[307.89084]\n"
     ]
    }
   ],
   "source": [
    "restored_1=scalery.inverse_transform(model_predictions)\n",
    "for i in range(len(restored_1)):\n",
    "    print(restored_1[i])\n",
    "# restored_2=scalery.inverse_transform(y_test)\n",
    "# for i in range(len(restored_2)):\n",
    "#             print(restored_2[i])"
   ]
  },
  {
   "cell_type": "code",
   "execution_count": 24,
   "metadata": {},
   "outputs": [
    {
     "data": {
      "text/plain": [
       "[0.9752100993917413, 0.9752593324200748, 0.975902238733148]"
      ]
     },
     "execution_count": 24,
     "metadata": {},
     "output_type": "execute_result"
    }
   ],
   "source": [
    "# history.history['mean_absolute_error']\n",
    "# history.history['val_mean_absolute_error']\n",
    "# history.history['loss']\n",
    "# history.history['val_loss']"
   ]
  },
  {
   "cell_type": "code",
   "execution_count": null,
   "metadata": {},
   "outputs": [],
   "source": []
  }
 ],
 "metadata": {
  "anaconda-cloud": {},
  "kernelspec": {
   "display_name": "Python 3",
   "language": "python",
   "name": "python3"
  },
  "language_info": {
   "codemirror_mode": {
    "name": "ipython",
    "version": 3
   },
   "file_extension": ".py",
   "mimetype": "text/x-python",
   "name": "python",
   "nbconvert_exporter": "python",
   "pygments_lexer": "ipython3",
   "version": "3.6.1"
  }
 },
 "nbformat": 4,
 "nbformat_minor": 2
}
