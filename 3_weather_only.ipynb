{
 "cells": [
  {
   "cell_type": "markdown",
   "metadata": {},
   "source": [
    "# Model Category 3: Using the weather features only\n",
    "The third model category will only use weather features to create a forecast for the electricity load."
   ]
  },
  {
   "cell_type": "markdown",
   "metadata": {},
   "source": [
    "## Model category specific configuration\n",
    "These parameters are model category specific\n"
   ]
  },
  {
   "cell_type": "code",
   "execution_count": 1,
   "metadata": {},
   "outputs": [],
   "source": [
    "# Model category name used throughout the subsequent analysis\n",
    "model_cat_id = \"03\"\n",
    "\n",
    "# Which features from the dataset should be loaded:\n",
    "# ['all', 'actual', 'entsoe', 'weather_t', 'weather_i', 'holiday', 'weekday', 'hour', 'month']\n",
    "features = ['actual', 'weather']\n",
    "\n",
    "# LSTM Layer configuration\n",
    "# ========================\n",
    "# Stateful True or false\n",
    "layer_conf = [ True, True, True ]\n",
    "# Number of neurons per layer\n",
    "\n",
    "# cells = [[ 5, 10, 20, 30, 50, 75, 100, 125, 150 ], [0, 10, 20, 50], [0, 10, 15, 20]]\n",
    "cells = [[ 1, 5, 10, 15 ], [0, 5, 10], [0, 5, 10]]\n",
    "# Regularization per layer\n",
    "dropout = [0, 0.1, 0.2]\n",
    "# Size of how many samples are used for one forward/backward pass\n",
    "batch_size = [8]\n",
    "# In a sense this is the output neuron dimension, or how many timesteps the neuron should output. Currently not implemented, defaults to 1.\n",
    "timesteps = [1]"
   ]
  },
  {
   "cell_type": "markdown",
   "metadata": {},
   "source": [
    "### Module imports"
   ]
  },
  {
   "cell_type": "code",
   "execution_count": 3,
   "metadata": {},
   "outputs": [],
   "source": [
    "import os\n",
    "import sys\n",
    "import math\n",
    "import itertools\n",
    "import datetime as dt\n",
    "import pytz\n",
    "import time as t\n",
    "import numpy as np\n",
    "import pandas as pd\n",
    "from pandas import read_csv\n",
    "from pandas import datetime\n",
    "from numpy import newaxis\n",
    "\n",
    "import matplotlib as mpl\n",
    "\n",
    "import matplotlib.pyplot as plt\n",
    "import scipy.stats as stats\n",
    "from statsmodels.tsa import stattools\n",
    "from tabulate import tabulate\n",
    "\n",
    "import math\n",
    "import keras as keras\n",
    "from keras import backend as K\n",
    "from keras.models import Sequential\n",
    "from keras.layers import Activation, Dense, Dropout, LSTM\n",
    "from keras.callbacks import TensorBoard\n",
    "from keras.utils import np_utils\n",
    "from keras.models import load_model\n",
    "\n",
    "from sklearn.preprocessing import StandardScaler\n",
    "from sklearn.metrics import mean_squared_error, mean_absolute_error\n",
    "\n",
    "from IPython.display import HTML\n",
    "from IPython.display import display\n",
    "%matplotlib notebook\n",
    "mpl.rcParams['figure.figsize'] = (9,5)\n",
    "\n",
    "# Import custom module functions\n",
    "module_path = os.path.abspath(os.path.join('../'))\n",
    "if module_path not in sys.path:\n",
    "    sys.path.append(module_path)\n",
    "\n",
    "from lstm_load_forecasting import data, lstm"
   ]
  },
  {
   "cell_type": "markdown",
   "metadata": {},
   "source": [
    "## Overall configuration\n",
    "These parameters are later used, but shouldn't have to change between different model categories (model 1-5)"
   ]
  },
  {
   "cell_type": "code",
   "execution_count": 4,
   "metadata": {},
   "outputs": [
    {
     "name": "stdout",
     "output_type": "stream",
     "text": [
      "America/New_York\n"
     ]
    }
   ],
   "source": [
    "# Directory with dataset\n",
    "path = os.path.join(os.path.abspath(''), 'E:/seminar project/input file for lstm neural netwrok/myData.csv')\n",
    "# path = os.path.join(os.path.abspath(''), 'E:/seminar project/input file for lstm neural netwrok/fulldataset.csv')\n",
    "# Splitdate for train and test data. As the TBATS and ARIMA benchmark needs 2 full cycle of all seasonality, needs to be after jan 01. \n",
    "# loc_tz = pytz.timezone('Europe/Zurich')\n",
    "loc_tz = pytz.timezone('America/New_York')\n",
    "split_date = loc_tz.localize(dt.datetime(2004,10,1,0,0,0,0))\n",
    "# split_date = loc_tz.localize(dt.datetime(2017,2,1,0,0,0,0))\n",
    "print(loc_tz)\n",
    "# Validation split percentage\n",
    "\n",
    "validation_split = 0.2\n",
    "# How many epochs in total\n",
    "epochs = 50\n",
    "# Set verbosity level. 0 for only per model, 1 for progress bar...\n",
    "verbose = 0\n",
    "\n",
    "# Dataframe containing the relevant data from training of all models\n",
    "results = pd.DataFrame(columns=['model_name', 'config', 'dropout',\n",
    "                                'train_loss', 'train_rmse', 'train_mae', 'train_mape', \n",
    "                                'valid_loss', 'valid_rmse', 'valid_mae', 'valid_mape', \n",
    "                                'test_rmse', 'test_mae', 'test_mape',\n",
    "                                'epochs', 'batch_train', 'input_shape',\n",
    "                                'total_time', 'time_step', 'splits'\n",
    "                               ])\n",
    "# Early stopping parameters\n",
    "early_stopping = True\n",
    "min_delta = 0.006\n",
    "patience = 2"
   ]
  },
  {
   "cell_type": "markdown",
   "metadata": {},
   "source": [
    "## Preparation and model generation\n",
    "Necessary preliminary steps and then the generation of all possible models based on the settings at the top of this notebook."
   ]
  },
  {
   "cell_type": "code",
   "execution_count": 5,
   "metadata": {},
   "outputs": [
    {
     "name": "stdout",
     "output_type": "stream",
     "text": [
      "==================================\n| Number of model configs generated | 108 |\n"
     ]
    }
   ],
   "source": [
    "# Generate output folders and files\n",
    "res_dir = 'E:/seminar project/lstm-load-forecasting/lstm-load-forecasting-master/results/notebook_' + model_cat_id + '/'\n",
    "plot_dir = 'E:/seminar project/lstm-load-forecasting/lstm-load-forecasting-master/plots/notebook_' + model_cat_id + '/'\n",
    "model_dir = 'E:/seminar project/lstm-load-forecasting/lstm-load-forecasting-master/models/notebook_' + model_cat_id + '/'\n",
    "os.makedirs(res_dir, exist_ok=True)\n",
    "os.makedirs(model_dir, exist_ok=True)\n",
    "output_table = res_dir + model_cat_id + '_results_' + t.strftime(\"%Y%m%d\") + '.csv'\n",
    "test_output_table = res_dir + model_cat_id + '_test_results' + t.strftime(\"%Y%m%d\") + '.csv'\n",
    "\n",
    "# Generate model combinations\n",
    "models = []\n",
    "models = lstm.generate_combinations(\n",
    "    model_name=model_cat_id + '_', layer_conf=layer_conf, cells=cells, dropout=dropout, \n",
    "    batch_size=batch_size, timesteps=[1])"
   ]
  },
  {
   "cell_type": "markdown",
   "metadata": {},
   "source": [
    "## Loading the data:\n"
   ]
  },
  {
   "cell_type": "code",
   "execution_count": 12,
   "metadata": {},
   "outputs": [],
   "source": [
    "# Load data and prepare for standardization\n",
    "#1st method\n",
    "# df = data.load_dataset(path=path, modules=features)\n",
    "# datatrain=df.loc[(df.index < split_date )].copy()\n",
    "# datatest=df.loc[(df.index >= split_date)].copy()\n",
    "# datatrain=datatrain.copy()\n",
    "# datatrain=datatrain.dropna()\n",
    "# datatest=datatest.copy()\n",
    "# datatest=datatest.dropna()\n",
    "# Xtrain = datatrain.drop('demand_load', 1).copy()\n",
    "# ytrain = datatrain.drop('temperature', 1).copy()\n",
    "# Xtest=datatest.drop('demand_load', 1).copy()\n",
    "# ytest=datatest.drop('temperature', 1).copy()\n",
    "# floatstrainx = [key for key in dict(Xtrain.dtypes) if dict(Xtrain.dtypes)[key] in ['float64']]\n",
    "# floatstrainy = [key for key in dict(ytrain.dtypes) if dict(ytrain.dtypes)[key] in ['float64']]\n",
    "# floatstestx = [key for key in dict(Xtest.dtypes) if dict(Xtest.dtypes)[key] in ['float64']]\n",
    "# floatstesty = [key for key in dict(ytest.dtypes) if dict(ytest.dtypes)[key] in ['float64']]\n",
    "# scalerx=StandardScaler()\n",
    "# X_train=scalerx.fit_transform(Xtrain[floatstrainx])\n",
    "# X_test=scalerx.fit_transform(Xtest[floatstestx])\n",
    "# scalery=StandardScaler()\n",
    "# y_train=scalery.fit_transform(ytrain[floatstrainy])\n",
    "# y_test=scalery.fit_transform(ytest[floatstesty])\n",
    "# print(y_train)\n",
    "\n",
    "#second method\n",
    "df = data.load_dataset(path=path, modules=features)\n",
    "data_scaled=df.copy()\n",
    "data_scaled=df.dropna()\n",
    "X_data=data_scaled.drop('demand_load',1).copy()\n",
    "y_data=data_scaled.drop('temperature',1).copy()\n",
    "floatsX=[key for key in dict(X_data.dtypes) if dict(X_data.dtypes)[key] in ['float64']]\n",
    "floatsy=[key for key in dict(y_data.dtypes) if dict(y_data.dtypes)[key] in ['float64']]\n",
    "scalerx=StandardScaler()\n",
    "Xscaled=scalerx.fit_transform(X_data[floatsX])\n",
    "X_data[floatsX]=Xscaled\n",
    "scalery=StandardScaler()\n",
    "yscaled=scalery.fit_transform(y_data[floatsy])\n",
    "y_data[floatsy]=yscaled\n",
    "y_train=y_data.loc[(y_data.index < split_date )].copy()\n",
    "X_train=X_data.loc[(X_data.index < split_date )].copy()\n",
    "y_test=y_data.loc[(y_data.index >= split_date )].copy()\n",
    "X_test=X_data.loc[(X_data.index >= split_date )].copy()\n",
    "\n",
    "\n",
    "\n",
    "\n",
    "#third method\n",
    "# df = data.load_dataset(path=path, modules=features)\n",
    "# df_scaled = df.copy()\n",
    "# df_scaled = df_scaled.dropna()\n",
    "# # Get all float type columns and standardize them\n",
    "# floats = [key for key in dict(df_scaled.dtypes) if dict(df_scaled.dtypes)[key] in ['float64']]\n",
    "# scaler = StandardScaler()\n",
    "# scaled_columns = scaler.fit_transform(df_scaled[floats])\n",
    "# df_scaled[floats] = scaled_columns\n",
    "# \n",
    "# # Split in train and test dataset\n",
    "# df_train = df_scaled.loc[(df_scaled.index < split_date )].copy()\n",
    "# df_test = df_scaled.loc[df_scaled.index >= split_date].copy()\n",
    "# # Split in features and label data\n",
    "# # y_train = df_train['actual'].copy()\n",
    "# # X_train = df_train.drop('actual', 1).copy()\n",
    "# # y_test = df_test['actual'].copy()\n",
    "# # X_test = df_test.drop('actual', 1).copy()\n",
    "# #y_train = df_train['demand_load'].copy()\n",
    "# X_train = df_train.drop('demand_load', 1).copy()\n",
    "# y_train = df_train.drop('temperature', 1).copy()\n",
    "# # y_test = df_test['demand_load'].copy()\n",
    "# X_test = df_test.drop('demand_load', 1).copy()\n",
    "# y_test = df_test.drop('temperature', 1).copy()\n"
   ]
  },
  {
   "cell_type": "markdown",
   "metadata": {},
   "source": [
    "## Running through all generated models\n",
    "Note: Depending on the above settings, this can take very long!"
   ]
  },
  {
   "cell_type": "code",
   "execution_count": 13,
   "metadata": {},
   "outputs": [
    {
     "name": "stdout",
     "output_type": "stream",
     "text": [
      "========================= Model 1/108 =========================\n| Starting with model | 03_1_l-1                   |\n| Starting time       | 2018-06-26 19:57:21.217601 |\n"
     ]
    },
    {
     "name": "stdout",
     "output_type": "stream",
     "text": [
      "========================= Model 2/108 =========================\n| Starting with model | 03_2_l-1_d-0.1             |\n| Starting time       | 2018-06-26 19:57:32.597806 |\n"
     ]
    },
    {
     "name": "stdout",
     "output_type": "stream",
     "text": [
      "========================= Model 3/108 =========================\n| Starting with model | 03_3_l-1_d-0.2             |\n| Starting time       | 2018-06-26 19:57:43.032159 |\n"
     ]
    },
    {
     "name": "stdout",
     "output_type": "stream",
     "text": [
      "========================= Model 4/108 =========================\n| Starting with model | 03_4_l-1_l-5               |\n| Starting time       | 2018-06-26 19:57:53.491540 |\n"
     ]
    },
    {
     "name": "stdout",
     "output_type": "stream",
     "text": [
      "========================= Model 5/108 =========================\n| Starting with model | 03_5_l-1_l-5_d-0.1         |\n| Starting time       | 2018-06-26 19:58:05.342210 |\n"
     ]
    },
    {
     "name": "stdout",
     "output_type": "stream",
     "text": [
      "========================= Model 6/108 =========================\n| Starting with model | 03_6_l-1_l-5_d-0.2         |\n| Starting time       | 2018-06-26 19:58:17.641187 |\n"
     ]
    },
    {
     "name": "stdout",
     "output_type": "stream",
     "text": [
      "========================= Model 7/108 =========================\n| Starting with model | 03_7_l-1_l-10              |\n| Starting time       | 2018-06-26 19:58:30.004274 |\n"
     ]
    },
    {
     "name": "stdout",
     "output_type": "stream",
     "text": [
      "========================= Model 8/108 =========================\n| Starting with model | 03_8_l-1_l-10_d-0.1        |\n| Starting time       | 2018-06-26 19:58:41.603702 |\n"
     ]
    },
    {
     "name": "stdout",
     "output_type": "stream",
     "text": [
      "========================= Model 9/108 =========================\n| Starting with model | 03_9_l-1_l-10_d-0.2        |\n| Starting time       | 2018-06-26 19:58:54.101879 |\n"
     ]
    },
    {
     "name": "stdout",
     "output_type": "stream",
     "text": [
      "========================= Model 10/108 =========================\n| Starting with model | 03_10_l-1_l-5              |\n| Starting time       | 2018-06-26 19:59:06.567086 |\n"
     ]
    },
    {
     "name": "stdout",
     "output_type": "stream",
     "text": [
      "========================= Model 11/108 =========================\n| Starting with model | 03_11_l-1_l-5_d-0.1        |\n| Starting time       | 2018-06-26 19:59:18.252530 |\n"
     ]
    },
    {
     "name": "stdout",
     "output_type": "stream",
     "text": [
      "========================= Model 12/108 =========================\n| Starting with model | 03_12_l-1_l-5_d-0.2        |\n| Starting time       | 2018-06-26 19:59:30.847855 |\n"
     ]
    },
    {
     "name": "stdout",
     "output_type": "stream",
     "text": [
      "========================= Model 13/108 =========================\n| Starting with model | 03_13_l-1_l-5_l-5          |\n| Starting time       | 2018-06-26 19:59:43.560220 |\n"
     ]
    },
    {
     "name": "stdout",
     "output_type": "stream",
     "text": [
      "========================= Model 14/108 =========================\n| Starting with model | 03_14_l-1_l-5_l-5_d-0.1    |\n| Starting time       | 2018-06-26 19:59:59.841818 |\n"
     ]
    },
    {
     "name": "stdout",
     "output_type": "stream",
     "text": [
      "========================= Model 15/108 =========================\n| Starting with model | 03_15_l-1_l-5_l-5_d-0.2    |\n| Starting time       | 2018-06-26 20:00:17.286491 |\n"
     ]
    },
    {
     "name": "stdout",
     "output_type": "stream",
     "text": [
      "========================= Model 16/108 =========================\n| Starting with model | 03_16_l-1_l-5_l-10         |\n| Starting time       | 2018-06-26 20:00:34.563983 |\n"
     ]
    },
    {
     "name": "stdout",
     "output_type": "stream",
     "text": [
      "========================= Model 17/108 =========================\n| Starting with model | 03_17_l-1_l-5_l-10_d-0.1   |\n| Starting time       | 2018-06-26 20:00:54.270652 |\n"
     ]
    },
    {
     "name": "stdout",
     "output_type": "stream",
     "text": [
      "========================= Model 18/108 =========================\n| Starting with model | 03_18_l-1_l-5_l-10_d-0.2   |\n| Starting time       | 2018-06-26 20:01:11.789357 |\n"
     ]
    },
    {
     "name": "stdout",
     "output_type": "stream",
     "text": [
      "========================= Model 19/108 =========================\n| Starting with model | 03_19_l-1_l-10             |\n| Starting time       | 2018-06-26 20:01:29.628352 |\n"
     ]
    },
    {
     "name": "stdout",
     "output_type": "stream",
     "text": [
      "========================= Model 20/108 =========================\n| Starting with model | 03_20_l-1_l-10_d-0.1       |\n| Starting time       | 2018-06-26 20:01:41.836264 |\n"
     ]
    },
    {
     "name": "stdout",
     "output_type": "stream",
     "text": [
      "========================= Model 21/108 =========================\n| Starting with model | 03_21_l-1_l-10_d-0.2       |\n| Starting time       | 2018-06-26 20:01:54.467623 |\n"
     ]
    },
    {
     "name": "stdout",
     "output_type": "stream",
     "text": [
      "========================= Model 22/108 =========================\n| Starting with model | 03_22_l-1_l-10_l-5         |\n| Starting time       | 2018-06-26 20:02:06.974803 |\n"
     ]
    },
    {
     "name": "stdout",
     "output_type": "stream",
     "text": [
      "========================= Model 23/108 =========================\n| Starting with model | 03_23_l-1_l-10_l-5_d-0.1   |\n| Starting time       | 2018-06-26 20:02:23.225375 |\n"
     ]
    },
    {
     "name": "stdout",
     "output_type": "stream",
     "text": [
      "========================= Model 24/108 =========================\n| Starting with model | 03_24_l-1_l-10_l-5_d-0.2   |\n| Starting time       | 2018-06-26 20:02:40.632980 |\n"
     ]
    },
    {
     "name": "stdout",
     "output_type": "stream",
     "text": [
      "========================= Model 25/108 =========================\n| Starting with model | 03_25_l-1_l-10_l-10        |\n| Starting time       | 2018-06-26 20:02:58.342859 |\n"
     ]
    },
    {
     "name": "stdout",
     "output_type": "stream",
     "text": [
      "========================= Model 26/108 =========================\n| Starting with model | 03_26_l-1_l-10_l-10_d-0.1  |\n| Starting time       | 2018-06-26 20:03:14.609445 |\n"
     ]
    },
    {
     "name": "stdout",
     "output_type": "stream",
     "text": [
      "========================= Model 27/108 =========================\n| Starting with model | 03_27_l-1_l-10_l-10_d-0.2  |\n| Starting time       | 2018-06-26 20:03:35.216919 |\n"
     ]
    },
    {
     "name": "stdout",
     "output_type": "stream",
     "text": [
      "========================= Model 28/108 =========================\n| Starting with model | 03_28_l-5                  |\n| Starting time       | 2018-06-26 20:03:56.327847 |\n"
     ]
    },
    {
     "name": "stdout",
     "output_type": "stream",
     "text": [
      "========================= Model 29/108 =========================\n| Starting with model | 03_29_l-5_d-0.1            |\n| Starting time       | 2018-06-26 20:04:03.594375 |\n"
     ]
    },
    {
     "name": "stdout",
     "output_type": "stream",
     "text": [
      "========================= Model 30/108 =========================\n| Starting with model | 03_30_l-5_d-0.2            |\n| Starting time       | 2018-06-26 20:04:10.906918 |\n"
     ]
    },
    {
     "name": "stdout",
     "output_type": "stream",
     "text": [
      "========================= Model 31/108 =========================\n| Starting with model | 03_31_l-5_l-5              |\n| Starting time       | 2018-06-26 20:04:18.608837 |\n"
     ]
    },
    {
     "name": "stdout",
     "output_type": "stream",
     "text": [
      "========================= Model 32/108 =========================\n| Starting with model | 03_32_l-5_l-5_d-0.1        |\n| Starting time       | 2018-06-26 20:04:30.097126 |\n"
     ]
    },
    {
     "name": "stdout",
     "output_type": "stream",
     "text": [
      "========================= Model 33/108 =========================\n| Starting with model | 03_33_l-5_l-5_d-0.2        |\n| Starting time       | 2018-06-26 20:04:42.519264 |\n"
     ]
    },
    {
     "name": "stdout",
     "output_type": "stream",
     "text": [
      "========================= Model 34/108 =========================\n| Starting with model | 03_34_l-5_l-10             |\n| Starting time       | 2018-06-26 20:04:55.008459 |\n"
     ]
    },
    {
     "name": "stdout",
     "output_type": "stream",
     "text": [
      "========================= Model 35/108 =========================\n| Starting with model | 03_35_l-5_l-10_d-0.1       |\n| Starting time       | 2018-06-26 20:05:06.807040 |\n"
     ]
    },
    {
     "name": "stdout",
     "output_type": "stream",
     "text": [
      "========================= Model 36/108 =========================\n| Starting with model | 03_36_l-5_l-10_d-0.2       |\n| Starting time       | 2018-06-26 20:05:19.054018 |\n"
     ]
    },
    {
     "name": "stdout",
     "output_type": "stream",
     "text": [
      "========================= Model 37/108 =========================\n| Starting with model | 03_37_l-5_l-5              |\n| Starting time       | 2018-06-26 20:05:33.220764 |\n"
     ]
    },
    {
     "name": "stdout",
     "output_type": "stream",
     "text": [
      "========================= Model 38/108 =========================\n| Starting with model | 03_38_l-5_l-5_d-0.1        |\n| Starting time       | 2018-06-26 20:05:47.317390 |\n"
     ]
    },
    {
     "name": "stdout",
     "output_type": "stream",
     "text": [
      "========================= Model 39/108 =========================\n| Starting with model | 03_39_l-5_l-5_d-0.2        |\n| Starting time       | 2018-06-26 20:05:59.924661 |\n"
     ]
    },
    {
     "name": "stdout",
     "output_type": "stream",
     "text": [
      "========================= Model 40/108 =========================\n| Starting with model | 03_40_l-5_l-5_l-5          |\n| Starting time       | 2018-06-26 20:06:12.596022 |\n"
     ]
    },
    {
     "name": "stdout",
     "output_type": "stream",
     "text": [
      "========================= Model 41/108 =========================\n| Starting with model | 03_41_l-5_l-5_l-5_d-0.1    |\n| Starting time       | 2018-06-26 20:06:29.911552 |\n"
     ]
    },
    {
     "name": "stdout",
     "output_type": "stream",
     "text": [
      "========================= Model 42/108 =========================\n| Starting with model | 03_42_l-5_l-5_l-5_d-0.2    |\n| Starting time       | 2018-06-26 20:06:50.708193 |\n"
     ]
    },
    {
     "name": "stdout",
     "output_type": "stream",
     "text": [
      "========================= Model 43/108 =========================\n| Starting with model | 03_43_l-5_l-5_l-10         |\n| Starting time       | 2018-06-26 20:07:08.164858 |\n"
     ]
    },
    {
     "name": "stdout",
     "output_type": "stream",
     "text": [
      "========================= Model 44/108 =========================\n| Starting with model | 03_44_l-5_l-5_l-10_d-0.1   |\n| Starting time       | 2018-06-26 20:07:27.390131 |\n"
     ]
    },
    {
     "name": "stdout",
     "output_type": "stream",
     "text": [
      "========================= Model 45/108 =========================\n| Starting with model | 03_45_l-5_l-5_l-10_d-0.2   |\n| Starting time       | 2018-06-26 20:07:53.931892 |\n"
     ]
    },
    {
     "name": "stdout",
     "output_type": "stream",
     "text": [
      "========================= Model 46/108 =========================\n| Starting with model | 03_46_l-5_l-10             |\n| Starting time       | 2018-06-26 20:08:21.038187 |\n"
     ]
    },
    {
     "name": "stdout",
     "output_type": "stream",
     "text": [
      "========================= Model 47/108 =========================\n| Starting with model | 03_47_l-5_l-10_d-0.1       |\n| Starting time       | 2018-06-26 20:08:33.845678 |\n"
     ]
    },
    {
     "name": "stdout",
     "output_type": "stream",
     "text": [
      "========================= Model 48/108 =========================\n| Starting with model | 03_48_l-5_l-10_d-0.2       |\n| Starting time       | 2018-06-26 20:08:46.138716 |\n"
     ]
    },
    {
     "name": "stdout",
     "output_type": "stream",
     "text": [
      "========================= Model 49/108 =========================\n| Starting with model | 03_49_l-5_l-10_l-5         |\n| Starting time       | 2018-06-26 20:08:58.768025 |\n"
     ]
    },
    {
     "name": "stdout",
     "output_type": "stream",
     "text": [
      "========================= Model 50/108 =========================\n| Starting with model | 03_50_l-5_l-10_l-5_d-0.1   |\n| Starting time       | 2018-06-26 20:09:16.619062 |\n"
     ]
    },
    {
     "name": "stdout",
     "output_type": "stream",
     "text": [
      "========================= Model 51/108 =========================\n| Starting with model | 03_51_l-5_l-10_l-5_d-0.2   |\n| Starting time       | 2018-06-26 20:09:38.284439 |\n"
     ]
    },
    {
     "name": "stdout",
     "output_type": "stream",
     "text": [
      "========================= Model 52/108 =========================\n| Starting with model | 03_52_l-5_l-10_l-10        |\n| Starting time       | 2018-06-26 20:09:55.978305 |\n"
     ]
    },
    {
     "name": "stdout",
     "output_type": "stream",
     "text": [
      "========================= Model 53/108 =========================\n| Starting with model | 03_53_l-5_l-10_l-10_d-0.1  |\n| Starting time       | 2018-06-26 20:10:15.703994 |\n"
     ]
    },
    {
     "name": "stdout",
     "output_type": "stream",
     "text": [
      "========================= Model 54/108 =========================\n| Starting with model | 03_54_l-5_l-10_l-10_d-0.2  |\n| Starting time       | 2018-06-26 20:10:36.601727 |\n"
     ]
    },
    {
     "name": "stdout",
     "output_type": "stream",
     "text": [
      "========================= Model 55/108 =========================\n| Starting with model | 03_55_l-10                 |\n| Starting time       | 2018-06-26 20:10:57.693641 |\n"
     ]
    },
    {
     "name": "stdout",
     "output_type": "stream",
     "text": [
      "========================= Model 56/108 =========================\n| Starting with model | 03_56_l-10_d-0.1           |\n| Starting time       | 2018-06-26 20:11:06.141241 |\n"
     ]
    },
    {
     "name": "stdout",
     "output_type": "stream",
     "text": [
      "========================= Model 57/108 =========================\n| Starting with model | 03_57_l-10_d-0.2           |\n| Starting time       | 2018-06-26 20:11:13.584886 |\n"
     ]
    },
    {
     "name": "stdout",
     "output_type": "stream",
     "text": [
      "========================= Model 58/108 =========================\n| Starting with model | 03_58_l-10_l-5             |\n| Starting time       | 2018-06-26 20:11:21.338835 |\n"
     ]
    },
    {
     "name": "stdout",
     "output_type": "stream",
     "text": [
      "========================= Model 59/108 =========================\n| Starting with model | 03_59_l-10_l-5_d-0.1       |\n| Starting time       | 2018-06-26 20:11:33.104418 |\n"
     ]
    },
    {
     "name": "stdout",
     "output_type": "stream",
     "text": [
      "========================= Model 60/108 =========================\n| Starting with model | 03_60_l-10_l-5_d-0.2       |\n| Starting time       | 2018-06-26 20:11:47.685463 |\n"
     ]
    },
    {
     "name": "stdout",
     "output_type": "stream",
     "text": [
      "========================= Model 61/108 =========================\n| Starting with model | 03_61_l-10_l-10            |\n| Starting time       | 2018-06-26 20:12:03.243409 |\n"
     ]
    },
    {
     "name": "stdout",
     "output_type": "stream",
     "text": [
      "========================= Model 62/108 =========================\n| Starting with model | 03_62_l-10_l-10_d-0.1      |\n| Starting time       | 2018-06-26 20:12:15.064007 |\n"
     ]
    },
    {
     "name": "stdout",
     "output_type": "stream",
     "text": [
      "========================= Model 63/108 =========================\n| Starting with model | 03_63_l-10_l-10_d-0.2      |\n| Starting time       | 2018-06-26 20:12:29.137623 |\n"
     ]
    },
    {
     "name": "stdout",
     "output_type": "stream",
     "text": [
      "========================= Model 64/108 =========================\n| Starting with model | 03_64_l-10_l-5             |\n| Starting time       | 2018-06-26 20:12:46.747427 |\n"
     ]
    },
    {
     "name": "stdout",
     "output_type": "stream",
     "text": [
      "========================= Model 65/108 =========================\n| Starting with model | 03_65_l-10_l-5_d-0.1       |\n| Starting time       | 2018-06-26 20:12:58.792223 |\n"
     ]
    },
    {
     "name": "stdout",
     "output_type": "stream",
     "text": [
      "========================= Model 66/108 =========================\n| Starting with model | 03_66_l-10_l-5_d-0.2       |\n| Starting time       | 2018-06-26 20:13:11.316496 |\n"
     ]
    },
    {
     "name": "stdout",
     "output_type": "stream",
     "text": [
      "========================= Model 67/108 =========================\n| Starting with model | 03_67_l-10_l-5_l-5         |\n| Starting time       | 2018-06-26 20:13:30.077262 |\n"
     ]
    },
    {
     "name": "stdout",
     "output_type": "stream",
     "text": [
      "========================= Model 68/108 =========================\n| Starting with model | 03_68_l-10_l-5_l-5_d-0.1   |\n| Starting time       | 2018-06-26 20:13:46.405902 |\n"
     ]
    },
    {
     "name": "stdout",
     "output_type": "stream",
     "text": [
      "========================= Model 69/108 =========================\n| Starting with model | 03_69_l-10_l-5_l-5_d-0.2   |\n| Starting time       | 2018-06-26 20:14:07.499813 |\n"
     ]
    },
    {
     "name": "stdout",
     "output_type": "stream",
     "text": [
      "========================= Model 70/108 =========================\n| Starting with model | 03_70_l-10_l-5_l-10        |\n| Starting time       | 2018-06-26 20:14:28.137315 |\n"
     ]
    },
    {
     "name": "stdout",
     "output_type": "stream",
     "text": [
      "========================= Model 71/108 =========================\n| Starting with model | 03_71_l-10_l-5_l-10_d-0.1  |\n| Starting time       | 2018-06-26 20:14:47.005232 |\n"
     ]
    },
    {
     "name": "stdout",
     "output_type": "stream",
     "text": [
      "========================= Model 72/108 =========================\n| Starting with model | 03_72_l-10_l-5_l-10_d-0.2  |\n| Starting time       | 2018-06-26 20:15:08.930893 |\n"
     ]
    },
    {
     "name": "stdout",
     "output_type": "stream",
     "text": [
      "========================= Model 73/108 =========================\n| Starting with model | 03_73_l-10_l-10            |\n| Starting time       | 2018-06-26 20:15:30.015843 |\n"
     ]
    },
    {
     "name": "stdout",
     "output_type": "stream",
     "text": [
      "========================= Model 74/108 =========================\n| Starting with model | 03_74_l-10_l-10_d-0.1      |\n| Starting time       | 2018-06-26 20:15:46.700756 |\n"
     ]
    },
    {
     "name": "stdout",
     "output_type": "stream",
     "text": [
      "========================= Model 75/108 =========================\n| Starting with model | 03_75_l-10_l-10_d-0.2      |\n| Starting time       | 2018-06-26 20:15:59.096903 |\n"
     ]
    },
    {
     "name": "stdout",
     "output_type": "stream",
     "text": [
      "========================= Model 76/108 =========================\n| Starting with model | 03_76_l-10_l-10_l-5        |\n| Starting time       | 2018-06-26 20:16:11.951426 |\n"
     ]
    },
    {
     "name": "stdout",
     "output_type": "stream",
     "text": [
      "========================= Model 77/108 =========================\n| Starting with model | 03_77_l-10_l-10_l-5_d-0.1  |\n| Starting time       | 2018-06-26 20:16:34.502658 |\n"
     ]
    },
    {
     "name": "stdout",
     "output_type": "stream",
     "text": [
      "========================= Model 78/108 =========================\n| Starting with model | 03_78_l-10_l-10_l-5_d-0.2  |\n| Starting time       | 2018-06-26 20:16:54.412463 |\n"
     ]
    },
    {
     "name": "stdout",
     "output_type": "stream",
     "text": [
      "========================= Model 79/108 =========================\n| Starting with model | 03_79_l-10_l-10_l-10       |\n| Starting time       | 2018-06-26 20:17:16.260104 |\n"
     ]
    },
    {
     "name": "stdout",
     "output_type": "stream",
     "text": [
      "========================= Model 80/108 =========================\n| Starting with model | 03_80_l-10_l-10_l-10_d-0.1 |\n| Starting time       | 2018-06-26 20:17:35.376193 |\n"
     ]
    },
    {
     "name": "stdout",
     "output_type": "stream",
     "text": [
      "========================= Model 81/108 =========================\n| Starting with model | 03_81_l-10_l-10_l-10_d-0.2 |\n| Starting time       | 2018-06-26 20:17:57.023600 |\n"
     ]
    },
    {
     "name": "stdout",
     "output_type": "stream",
     "text": [
      "========================= Model 82/108 =========================\n| Starting with model | 03_82_l-15                 |\n| Starting time       | 2018-06-26 20:18:17.690128 |\n"
     ]
    },
    {
     "name": "stdout",
     "output_type": "stream",
     "text": [
      "========================= Model 83/108 =========================\n| Starting with model | 03_83_l-15_d-0.1           |\n| Starting time       | 2018-06-26 20:18:25.320970 |\n"
     ]
    },
    {
     "name": "stdout",
     "output_type": "stream",
     "text": [
      "========================= Model 84/108 =========================\n| Starting with model | 03_84_l-15_d-0.2           |\n| Starting time       | 2018-06-26 20:18:33.212047 |\n"
     ]
    },
    {
     "name": "stdout",
     "output_type": "stream",
     "text": [
      "========================= Model 85/108 =========================\n| Starting with model | 03_85_l-15_l-5             |\n| Starting time       | 2018-06-26 20:18:41.098148 |\n"
     ]
    },
    {
     "name": "stdout",
     "output_type": "stream",
     "text": [
      "========================= Model 86/108 =========================\n| Starting with model | 03_86_l-15_l-5_d-0.1       |\n| Starting time       | 2018-06-26 20:18:55.254858 |\n"
     ]
    },
    {
     "name": "stdout",
     "output_type": "stream",
     "text": [
      "========================= Model 87/108 =========================\n| Starting with model | 03_87_l-15_l-5_d-0.2       |\n| Starting time       | 2018-06-26 20:19:17.424685 |\n"
     ]
    },
    {
     "name": "stdout",
     "output_type": "stream",
     "text": [
      "========================= Model 88/108 =========================\n| Starting with model | 03_88_l-15_l-10            |\n| Starting time       | 2018-06-26 20:19:29.991985 |\n"
     ]
    },
    {
     "name": "stdout",
     "output_type": "stream",
     "text": [
      "========================= Model 89/108 =========================\n| Starting with model | 03_89_l-15_l-10_d-0.1      |\n| Starting time       | 2018-06-26 20:19:46.126424 |\n"
     ]
    },
    {
     "name": "stdout",
     "output_type": "stream",
     "text": [
      "========================= Model 90/108 =========================\n| Starting with model | 03_90_l-15_l-10_d-0.2      |\n| Starting time       | 2018-06-26 20:20:00.153027 |\n"
     ]
    },
    {
     "name": "stdout",
     "output_type": "stream",
     "text": [
      "========================= Model 91/108 =========================\n| Starting with model | 03_91_l-15_l-5             |\n| Starting time       | 2018-06-26 20:20:13.026537 |\n"
     ]
    },
    {
     "name": "stdout",
     "output_type": "stream",
     "text": [
      "========================= Model 92/108 =========================\n| Starting with model | 03_92_l-15_l-5_d-0.1       |\n| Starting time       | 2018-06-26 20:20:30.635324 |\n"
     ]
    },
    {
     "name": "stdout",
     "output_type": "stream",
     "text": [
      "========================= Model 93/108 =========================\n| Starting with model | 03_93_l-15_l-5_d-0.2       |\n| Starting time       | 2018-06-26 20:20:43.606986 |\n"
     ]
    },
    {
     "name": "stdout",
     "output_type": "stream",
     "text": [
      "========================= Model 94/108 =========================\n| Starting with model | 03_94_l-15_l-5_l-5         |\n| Starting time       | 2018-06-26 20:20:58.069970 |\n"
     ]
    },
    {
     "name": "stdout",
     "output_type": "stream",
     "text": [
      "========================= Model 95/108 =========================\n| Starting with model | 03_95_l-15_l-5_l-5_d-0.1   |\n| Starting time       | 2018-06-26 20:21:20.379957 |\n"
     ]
    },
    {
     "name": "stdout",
     "output_type": "stream",
     "text": [
      "========================= Model 96/108 =========================\n| Starting with model | 03_96_l-15_l-5_l-5_d-0.2   |\n| Starting time       | 2018-06-26 20:21:40.909381 |\n"
     ]
    },
    {
     "name": "stdout",
     "output_type": "stream",
     "text": [
      "========================= Model 97/108 =========================\n| Starting with model | 03_97_l-15_l-5_l-10        |\n| Starting time       | 2018-06-26 20:22:02.556772 |\n"
     ]
    },
    {
     "name": "stdout",
     "output_type": "stream",
     "text": [
      "========================= Model 98/108 =========================\n| Starting with model | 03_98_l-15_l-5_l-10_d-0.1  |\n| Starting time       | 2018-06-26 20:22:22.565680 |\n"
     ]
    },
    {
     "name": "stdout",
     "output_type": "stream",
     "text": [
      "========================= Model 99/108 =========================\n| Starting with model | 03_99_l-15_l-5_l-10_d-0.2  |\n| Starting time       | 2018-06-26 20:22:43.695640 |\n"
     ]
    },
    {
     "name": "stdout",
     "output_type": "stream",
     "text": [
      "========================= Model 100/108 =========================\n| Starting with model | 03_100_l-15_l-10           |\n| Starting time       | 2018-06-26 20:23:05.941616 |\n"
     ]
    },
    {
     "name": "stdout",
     "output_type": "stream",
     "text": [
      "========================= Model 101/108 =========================\n| Starting with model | 03_101_l-15_l-10_d-0.1     |\n| Starting time       | 2018-06-26 20:23:20.406550 |\n"
     ]
    },
    {
     "name": "stdout",
     "output_type": "stream",
     "text": [
      "========================= Model 102/108 =========================\n| Starting with model | 03_102_l-15_l-10_d-0.2     |\n| Starting time       | 2018-06-26 20:23:33.231036 |\n"
     ]
    },
    {
     "name": "stdout",
     "output_type": "stream",
     "text": [
      "========================= Model 103/108 =========================\n| Starting with model | 03_103_l-15_l-10_l-5       |\n| Starting time       | 2018-06-26 20:23:46.597025 |\n"
     ]
    },
    {
     "name": "stdout",
     "output_type": "stream",
     "text": [
      "========================= Model 104/108 =========================\n| Starting with model | 03_104_l-15_l-10_l-5_d-0.1 |\n| Starting time       | 2018-06-26 20:24:11.556398 |\n"
     ]
    },
    {
     "name": "stdout",
     "output_type": "stream",
     "text": [
      "========================= Model 105/108 =========================\n| Starting with model | 03_105_l-15_l-10_l-5_d-0.2 |\n| Starting time       | 2018-06-26 20:24:41.632365 |\n"
     ]
    },
    {
     "name": "stdout",
     "output_type": "stream",
     "text": [
      "========================= Model 106/108 =========================\n| Starting with model | 03_106_l-15_l-10_l-10      |\n| Starting time       | 2018-06-26 20:25:09.111001 |\n"
     ]
    },
    {
     "name": "stdout",
     "output_type": "stream",
     "text": [
      "========================= Model 107/108 =========================\n| Starting with model | 03_107_l-15_l-10_l-10_d-0.1 |\n| Starting time       | 2018-06-26 20:25:35.884006  |\n"
     ]
    },
    {
     "name": "stdout",
     "output_type": "stream",
     "text": [
      "========================= Model 108/108 =========================\n| Starting with model | 03_108_l-15_l-10_l-10_d-0.2 |\n| Starting time       | 2018-06-26 20:26:00.153767  |\n"
     ]
    }
   ],
   "source": [
    "start_time = t.time()\n",
    "for idx, m in enumerate(models):\n",
    "    stopper = t.time()\n",
    "    print('========================= Model {}/{} ========================='.format(idx+1, len(models)))\n",
    "    print(tabulate([['Starting with model', m['name']], ['Starting time', datetime.fromtimestamp(stopper)]],\n",
    "                   tablefmt=\"jira\", numalign=\"right\", floatfmt=\".3f\"))\n",
    "    try:\n",
    "        # Creating the Keras Model\n",
    "        model = lstm.create_model(layers=m['layers'], sample_size=X_train.shape[0], batch_size=m['batch_size'], \n",
    "                          timesteps=m['timesteps'], features=X_train.shape[1])\n",
    "        # Training...\n",
    "        history = lstm.train_model(model=model, mode='fit', y=y_train, X=X_train, \n",
    "                                   batch_size=m['batch_size'], timesteps=m['timesteps'], epochs=epochs, \n",
    "                                   rearrange=False, validation_split=validation_split, verbose=verbose, \n",
    "                                   early_stopping=early_stopping, min_delta=min_delta, patience=patience)\n",
    "\n",
    "        # Write results\n",
    "        min_loss = np.min(history.history['val_loss'])\n",
    "        min_idx = np.argmin(history.history['val_loss'])\n",
    "        min_epoch = min_idx + 1\n",
    "        \n",
    "        if verbose > 0:\n",
    "            print('______________________________________________________________________')\n",
    "            print(tabulate([['Minimum validation loss at epoch', min_epoch, 'Time: {}'.format(t.time()-stopper)],\n",
    "                        ['Training loss & MAE', history.history['loss'][min_idx], history.history['mean_absolute_error'][min_idx]  ], \n",
    "                        ['Validation loss & mae', history.history['val_loss'][min_idx], history.history['val_mean_absolute_error'][min_idx] ],\n",
    "                       ], tablefmt=\"jira\", numalign=\"right\", floatfmt=\".3f\"))\n",
    "            print('______________________________________________________________________')\n",
    "        \n",
    "        \n",
    "        result = [{'model_name': m['name'], 'config': m, 'train_loss': history.history['loss'][min_idx], 'train_rmse': 0,\n",
    "                   'train_mae': history.history['mean_absolute_error'][min_idx], 'train_mape': 0,\n",
    "                   'valid_loss': history.history['val_loss'][min_idx], 'valid_rmse': 0, \n",
    "                   'valid_mae': history.history['val_mean_absolute_error'][min_idx],'valid_mape': 0, \n",
    "                   'test_rmse': 0, 'test_mae': 0, 'test_mape': 0, 'epochs': '{}/{}'.format(min_epoch, epochs), 'batch_train':m['batch_size'],\n",
    "                   'input_shape':(X_train.shape[0], timesteps, X_train.shape[1]), 'total_time':t.time()-stopper, \n",
    "                   'time_step':0, 'splits':str(split_date), 'dropout': m['layers'][0]['dropout']\n",
    "                  }]\n",
    "        results = results.append(result, ignore_index=True)\n",
    "        \n",
    "        # Saving the model and weights\n",
    "        model.save(model_dir + m['name'] + '.h5')\n",
    "        \n",
    "        # Write results to csv\n",
    "        results.to_csv(output_table, sep=';')\n",
    "        \n",
    "        K.clear_session()\n",
    "        import tensorflow as tf\n",
    "        tf.reset_default_graph()\n",
    "        \n",
    "    # Shouldn't catch all errors, but for now...\n",
    "    except BaseException as e:\n",
    "        print('=============== ERROR {}/{} ============='.format(idx+1, len(models)))\n",
    "        print(tabulate([['Model:', m['name']], ['Config:', m]], tablefmt=\"jira\", numalign=\"right\", floatfmt=\".3f\"))\n",
    "        print('Error: {}'.format(e))\n",
    "        result = [{'model_name': m['name'], 'config': m, 'train_loss': str(e)}]\n",
    "        results = results.append(result, ignore_index=True)\n",
    "        results.to_csv(output_table,sep=';')\n",
    "        continue\n",
    "        "
   ]
  },
  {
   "cell_type": "markdown",
   "metadata": {},
   "source": [
    "## Model selection based on the validation MAE"
   ]
  },
  {
   "cell_type": "markdown",
   "metadata": {
    "collapsed": true
   },
   "source": [
    "Select the top 5 models based on the Mean Absolute Error in the validation data:\n",
    "http://scikit-learn.org/stable/modules/model_evaluation.html#mean-absolute-error"
   ]
  },
  {
   "cell_type": "code",
   "execution_count": 14,
   "metadata": {},
   "outputs": [
    {
     "name": "stdout",
     "output_type": "stream",
     "text": [
      "     Unnamed: 0         model_name  \\\n372         372  03_373_l-125_l-50   \n96           96         03_97_l-20   \n297         297  03_298_l-100_l-20   \n345         345  03_346_l-125_l-20   \n36           36     03_37_l-5_l-50   \n\n                                                config  dropout  \\\n372  {'name': '03_373_l-125_l-50', 'layers': [{'typ...      0.0   \n96   {'name': '03_97_l-20', 'layers': [{'type': 'ls...      0.0   \n297  {'name': '03_298_l-100_l-20', 'layers': [{'typ...      0.0   \n345  {'name': '03_346_l-125_l-20', 'layers': [{'typ...      0.0   \n36   {'name': '03_37_l-5_l-50', 'layers': [{'type':...      0.0   \n\n             train_loss  train_rmse  train_mae  train_mape  valid_loss  \\\n372   0.634248168572874         0.0   0.657725         0.0    0.542658   \n96   0.6236581323458884         0.0   0.649591         0.0    0.526598   \n297  0.6233532765602812         0.0   0.648314         0.0    0.520918   \n345  0.6273993025944317         0.0   0.651957         0.0    0.530819   \n36   0.6231241563057646         0.0   0.648042         0.0    0.523323   \n\n     valid_rmse            ...              valid_mape  test_rmse  test_mae  \\\n372         0.0            ...                     0.0        0.0       0.0   \n96          0.0            ...                     0.0        0.0       0.0   \n297         0.0            ...                     0.0        0.0       0.0   \n345         0.0            ...                     0.0        0.0       0.0   \n36          0.0            ...                     0.0        0.0       0.0   \n\n     test_mape  epochs batch_train     input_shape  total_time  time_step  \\\n372        0.0    7/30         8.0  (6582, [1], 1)   58.610694        0.0   \n96         0.0   15/30         8.0  (6582, [1], 1)   25.173585        0.0   \n297        0.0   10/30         8.0  (6582, [1], 1)   56.490792        0.0   \n345        0.0    6/30         8.0  (6582, [1], 1)   46.973270        0.0   \n36         0.0   20/30         8.0  (6582, [1], 1)  104.981393        0.0   \n\n                        splits  \n372  2004-10-01 00:00:00-04:00  \n96   2004-10-01 00:00:00-04:00  \n297  2004-10-01 00:00:00-04:00  \n345  2004-10-01 00:00:00-04:00  \n36   2004-10-01 00:00:00-04:00  \n\n[5 rows x 21 columns]\n"
     ]
    }
   ],
   "source": [
    "# Number of the selected top models \n",
    "selection = 5\n",
    "# If run in the same instance not necessary. If run on the same day, then just use output_table\n",
    "results_fn = res_dir + model_cat_id + '_results_' + '20180614' + '.csv'\n",
    "\n",
    "\n",
    "\n",
    "results_csv = pd.read_csv(results_fn, delimiter=';', encoding='latin1')\n",
    "\n",
    "\n",
    "\n",
    "\n",
    "top_models = results_csv.nsmallest(selection, 'valid_mae')\n",
    "print(top_models)"
   ]
  },
  {
   "cell_type": "markdown",
   "metadata": {},
   "source": [
    "## Evaluate top 5 models"
   ]
  },
  {
   "cell_type": "code",
   "execution_count": 17,
   "metadata": {},
   "outputs": [],
   "source": [
    "# Init test results table\n",
    "\n",
    "# Init test results table\n",
    "test_results = pd.DataFrame(columns=['Model name', 'Mean absolute error', 'Mean squared error'])\n",
    "\n",
    "# Init empty predictions\n",
    "predictions = {}\n",
    "\n",
    "# Loop through models\n",
    "for index, row in top_models.iterrows():\n",
    "    filename = model_dir + row['model_name'] + '.h5'\n",
    "    # model=h5py.File(filename)\n",
    "    \n",
    "    model = load_model(filename)\n",
    "    \n",
    "    batch_size = int(row['batch_train'])\n",
    "    # print(filename)\n",
    "    # Calculate scores\n",
    "    loss, mae = lstm.evaluate_model(model=model, X=X_test, y=y_test, batch_size=batch_size, timesteps=1, verbose=verbose)\n",
    "\n",
    "    # Store results\n",
    "    result = [{'Model name': row['model_name'], \n",
    "               'Mean squared error': loss, 'Mean absolute error': mae\n",
    "              }]\n",
    "    test_results = test_results.append(result, ignore_index=True)\n",
    "\n",
    "    # Generate predictions\n",
    "    model.reset_states()\n",
    "    model_predictions = lstm.get_predictions(model=model, X=y_test, batch_size=batch_size, timesteps=timesteps[0], verbose=verbose)\n",
    "    \n",
    "        # Save predictions\n",
    "    predictions[row['model_name']] = model_predictions\n",
    "\n",
    "    K.clear_session()\n",
    "    import tensorflow as tf\n",
    "    tf.reset_default_graph()\n",
    "\n",
    "\n",
    "test_results = test_results.sort_values('Mean absolute error', ascending=True)\n",
    "test_results = test_results.set_index(['Model name'])\n",
    "\n",
    "if not os.path.isfile(test_output_table):\n",
    "    test_results.to_csv(test_output_table, sep=';')\n",
    "else: # else it exists so append without writing the header\n",
    "    test_results.to_csv(test_output_table,mode = 'a',header=False, sep=';')"
   ]
  },
  {
   "cell_type": "code",
   "execution_count": 22,
   "metadata": {
    "scrolled": true,
    "collapsed": false
   },
   "outputs": [
    {
     "name": "stdout",
     "output_type": "stream",
     "text": [
      "Test dataset performance of the best 5 (out of 108 tested models):\n"
     ]
    },
    {
     "name": "stdout",
     "output_type": "stream",
     "text": [
      "+-------------------+-----------------------+----------------------+\n| Model name        |   Mean absolute error |   Mean squared error |\n+===================+=======================+======================+\n| 03_298_l-100_l-20 |                 0.889 |                1.035 |\n+-------------------+-----------------------+----------------------+\n| 03_373_l-125_l-50 |                 0.912 |                1.146 |\n+-------------------+-----------------------+----------------------+\n| 03_37_l-5_l-50    |                 0.915 |                1.164 |\n+-------------------+-----------------------+----------------------+\n| 03_346_l-125_l-20 |                 0.955 |                1.320 |\n+-------------------+-----------------------+----------------------+\n| 03_97_l-20        |                 0.959 |                1.319 |\n+-------------------+-----------------------+----------------------+\n"
     ]
    }
   ],
   "source": [
    "print('Test dataset performance of the best {} (out of {} tested models):'.format(min(selection, len(models)), len(models)))\n",
    "print(tabulate(test_results, headers='keys', tablefmt=\"grid\", numalign=\"right\", floatfmt=\".3f\"))\n",
    "restored_1=scalery.inverse_transform(model_predictions)\n",
    "for i in range(len(restored_1)):\n",
    "    print(restored_1[i])\n",
    "restored_2=scalery.inverse_transform(y_test)\n",
    "for i in range(len(restored_2)):\n",
    "            print(restored_2[i])\n",
    "\n"
   ]
  },
  {
   "cell_type": "code",
   "execution_count": 32,
   "metadata": {
    "collapsed": false
   },
   "outputs": [
    {
     "data": {
      "text/plain": [
       "[1.1310293587242686, 1.1311681201545203, 1.1311185490794298]"
      ]
     },
     "execution_count": 32,
     "metadata": {},
     "output_type": "execute_result"
    }
   ],
   "source": [
    "\n",
    "\n",
    "history.history['mean_absolute_error']\n",
    "history.history['val_mean_absolute_error']\n",
    "history.history['loss']\n",
    "history.history['val_loss']"
   ]
  },
  {
   "cell_type": "code",
   "execution_count": null,
   "metadata": {},
   "outputs": [],
   "source": [
    "# plots=lstm.plot_history(history=history, metrics='mean_absolute_error', interactive=False, display=False)"
   ]
  }
 ],
 "metadata": {
  "anaconda-cloud": {},
  "kernelspec": {
   "display_name": "Python 3",
   "language": "python",
   "name": "python3"
  },
  "language_info": {
   "codemirror_mode": {
    "name": "ipython",
    "version": 3
   },
   "file_extension": ".py",
   "mimetype": "text/x-python",
   "name": "python",
   "nbconvert_exporter": "python",
   "pygments_lexer": "ipython3",
   "version": "3.6.4"
  }
 },
 "nbformat": 4,
 "nbformat_minor": 2
}
